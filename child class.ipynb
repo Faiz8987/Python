{
 "cells": [
  {
   "cell_type": "code",
   "execution_count": 1,
   "id": "f429e610",
   "metadata": {},
   "outputs": [],
   "source": [
    "class why:\n",
    "    def q1(self):\n",
    "        print('who are you')"
   ]
  },
  {
   "cell_type": "code",
   "execution_count": 2,
   "id": "7ba9e12c",
   "metadata": {},
   "outputs": [],
   "source": [
    "wh = why()"
   ]
  },
  {
   "cell_type": "code",
   "execution_count": 4,
   "id": "5039d391",
   "metadata": {},
   "outputs": [
    {
     "name": "stdout",
     "output_type": "stream",
     "text": [
      "who are you\n"
     ]
    }
   ],
   "source": [
    "wh.q1()"
   ]
  },
  {
   "cell_type": "code",
   "execution_count": 6,
   "id": "8135c460",
   "metadata": {},
   "outputs": [],
   "source": [
    "class Mobile:\n",
    "    def set_brand(self,brand):\n",
    "        self.brand = brand\n",
    "    def set_color(self,color):\n",
    "        self.color = color\n",
    "    def show_brand(self):\n",
    "        return self.brand\n",
    "    def show_color(self):\n",
    "        return self.color"
   ]
  },
  {
   "cell_type": "code",
   "execution_count": 7,
   "id": "6983de21",
   "metadata": {},
   "outputs": [],
   "source": [
    "aa = mobile()"
   ]
  },
  {
   "cell_type": "code",
   "execution_count": 8,
   "id": "9a77f52c",
   "metadata": {},
   "outputs": [],
   "source": [
    "aa.set_brand('redmi')"
   ]
  },
  {
   "cell_type": "code",
   "execution_count": 10,
   "id": "c6ff4e63",
   "metadata": {},
   "outputs": [
    {
     "data": {
      "text/plain": [
       "'redmi'"
      ]
     },
     "execution_count": 10,
     "metadata": {},
     "output_type": "execute_result"
    }
   ],
   "source": [
    "aa.show_brand()"
   ]
  },
  {
   "cell_type": "code",
   "execution_count": 11,
   "id": "4f5f8316",
   "metadata": {},
   "outputs": [],
   "source": [
    "aa.set_color('black')"
   ]
  },
  {
   "cell_type": "code",
   "execution_count": 12,
   "id": "809a38e6",
   "metadata": {},
   "outputs": [
    {
     "data": {
      "text/plain": [
       "'black'"
      ]
     },
     "execution_count": 12,
     "metadata": {},
     "output_type": "execute_result"
    }
   ],
   "source": [
    "aa.show_color()"
   ]
  },
  {
   "cell_type": "code",
   "execution_count": 14,
   "id": "a85e6a5e",
   "metadata": {},
   "outputs": [],
   "source": [
    "class Device:\n",
    "    def __init__(self,brand,color,cost):\n",
    "        self.brand = brand\n",
    "        self.color = color\n",
    "        self.cost = cost\n",
    "    def show_details(self):\n",
    "        print(self.brand)\n",
    "        print(self.color)\n",
    "        print(self.cost)\n",
    "\n",
    "        \n"
   ]
  },
  {
   "cell_type": "code",
   "execution_count": 15,
   "id": "c9d7209b",
   "metadata": {},
   "outputs": [],
   "source": [
    "qq = Device('oppo','white',10000)"
   ]
  },
  {
   "cell_type": "code",
   "execution_count": 16,
   "id": "3e096e1e",
   "metadata": {},
   "outputs": [
    {
     "name": "stdout",
     "output_type": "stream",
     "text": [
      "oppo\n",
      "white\n",
      "10000\n"
     ]
    }
   ],
   "source": [
    "qq.show_details()"
   ]
  },
  {
   "cell_type": "code",
   "execution_count": 28,
   "id": "47836f0a",
   "metadata": {},
   "outputs": [],
   "source": [
    "class D2 (Device):\n",
    "    def show_details_hh(self):\n",
    "        print('ram is 8 gb')"
   ]
  },
  {
   "cell_type": "code",
   "execution_count": 29,
   "id": "6e1fe6fd",
   "metadata": {},
   "outputs": [],
   "source": [
    "ww = D2('redmi','black',15000)"
   ]
  },
  {
   "cell_type": "code",
   "execution_count": 32,
   "id": "f0c77a6d",
   "metadata": {},
   "outputs": [
    {
     "name": "stdout",
     "output_type": "stream",
     "text": [
      "redmi\n",
      "black\n",
      "15000\n"
     ]
    }
   ],
   "source": [
    "ww.show_details()"
   ]
  },
  {
   "cell_type": "code",
   "execution_count": 33,
   "id": "95eb0175",
   "metadata": {},
   "outputs": [
    {
     "name": "stdout",
     "output_type": "stream",
     "text": [
      "oppo\n",
      "white\n",
      "10000\n"
     ]
    }
   ],
   "source": [
    "qq.show_details()"
   ]
  },
  {
   "cell_type": "code",
   "execution_count": 34,
   "id": "24037527",
   "metadata": {},
   "outputs": [],
   "source": [
    "class Employee:\n",
    "    def __init__(self,name,age,salary):\n",
    "        self.name = name\n",
    "        self.age = age\n",
    "        self.salary = salary\n",
    "    def show_details(self):\n",
    "        print(\"employee name is\",self.name)\n",
    "        print(\"employee age is \",self.age)\n",
    "        print(\"employee salary is \",self.salary)"
   ]
  },
  {
   "cell_type": "code",
   "execution_count": 35,
   "id": "eea4eefc",
   "metadata": {},
   "outputs": [],
   "source": [
    "emp1 = Employee('faiz',22,10000)"
   ]
  },
  {
   "cell_type": "code",
   "execution_count": 36,
   "id": "56198007",
   "metadata": {},
   "outputs": [
    {
     "name": "stdout",
     "output_type": "stream",
     "text": [
      "employee name is faiz\n",
      "employee age is  22\n",
      "employee salary is  10000\n"
     ]
    }
   ],
   "source": [
    "emp1.show_details()"
   ]
  },
  {
   "cell_type": "code",
   "execution_count": 38,
   "id": "8d52aefe",
   "metadata": {},
   "outputs": [],
   "source": [
    "class Em2(Employee):\n",
    "    def show_details2(self):\n",
    "        print('data scientist')"
   ]
  },
  {
   "cell_type": "code",
   "execution_count": 41,
   "id": "e1da5899",
   "metadata": {},
   "outputs": [],
   "source": [
    "emp2 = Em2('faizan',20,1500000)"
   ]
  },
  {
   "cell_type": "code",
   "execution_count": 43,
   "id": "7cdf6560",
   "metadata": {},
   "outputs": [
    {
     "name": "stdout",
     "output_type": "stream",
     "text": [
      "employee name is faizan\n",
      "employee age is  20\n",
      "employee salary is  1500000\n"
     ]
    }
   ],
   "source": [
    "emp2.show_details()"
   ]
  },
  {
   "cell_type": "code",
   "execution_count": 1,
   "id": "57752533",
   "metadata": {},
   "outputs": [],
   "source": [
    "#child class mai init methord"
   ]
  },
  {
   "cell_type": "code",
   "execution_count": 9,
   "id": "1c5a22bb",
   "metadata": {},
   "outputs": [],
   "source": [
    "class Vecile:\n",
    "    def __init__(self,brand,cost,color):\n",
    "        self.brand = brand\n",
    "        self.cost = cost\n",
    "        self.color = color\n",
    "    def show_details(self):\n",
    "        print(self.brand)\n",
    "        print(self.cost)\n",
    "        print(self.color)\n",
    "    \n",
    "        "
   ]
  },
  {
   "cell_type": "code",
   "execution_count": 10,
   "id": "ede77f25",
   "metadata": {},
   "outputs": [],
   "source": [
    "aa = Vecile('hero',50000,'black')"
   ]
  },
  {
   "cell_type": "code",
   "execution_count": 11,
   "id": "046ac4e5",
   "metadata": {},
   "outputs": [
    {
     "name": "stdout",
     "output_type": "stream",
     "text": [
      "hero\n",
      "50000\n",
      "black\n"
     ]
    }
   ],
   "source": [
    "aa.show_details()"
   ]
  },
  {
   "cell_type": "code",
   "execution_count": 21,
   "id": "43af64c3",
   "metadata": {},
   "outputs": [],
   "source": [
    "class Car (Vecile):\n",
    "    def __init__(self,brand,cost,color,speed,cc):\n",
    "        super().__init__(brand,cost,color)\n",
    "        self.speed = speed\n",
    "        self.cc = cc\n",
    "    def show_2_details(self):\n",
    "        print(self.speed)\n",
    "        print(self.cc)"
   ]
  },
  {
   "cell_type": "code",
   "execution_count": 22,
   "id": "ffc51e93",
   "metadata": {},
   "outputs": [],
   "source": [
    "ss = Car('audi',10000000,'red',400,3000)"
   ]
  },
  {
   "cell_type": "code",
   "execution_count": 23,
   "id": "99f6386e",
   "metadata": {},
   "outputs": [
    {
     "name": "stdout",
     "output_type": "stream",
     "text": [
      "audi\n",
      "10000000\n",
      "red\n"
     ]
    }
   ],
   "source": [
    "ss.show_details()"
   ]
  },
  {
   "cell_type": "code",
   "execution_count": 24,
   "id": "84a46305",
   "metadata": {},
   "outputs": [
    {
     "name": "stdout",
     "output_type": "stream",
     "text": [
      "400\n",
      "3000\n"
     ]
    }
   ],
   "source": [
    "ss.show_2_details()"
   ]
  },
  {
   "cell_type": "code",
   "execution_count": 25,
   "id": "f3a306fa",
   "metadata": {},
   "outputs": [],
   "source": [
    "#multiple super class with child class"
   ]
  },
  {
   "cell_type": "code",
   "execution_count": 26,
   "id": "43c262c6",
   "metadata": {},
   "outputs": [],
   "source": [
    "class Papa:\n",
    "    def assign_string_one(self,str1):\n",
    "        self.str1 = str1\n",
    "    def show_string_one(self):\n",
    "        return (self.str1)"
   ]
  },
  {
   "cell_type": "code",
   "execution_count": 27,
   "id": "df828a28",
   "metadata": {},
   "outputs": [],
   "source": [
    "class Ammi:\n",
    "    def assign_string_two(self,str2):\n",
    "        self.str2 = str2\n",
    "    def show_string_two(self):\n",
    "        return(self.str2)"
   ]
  },
  {
   "cell_type": "code",
   "execution_count": 28,
   "id": "436e7347",
   "metadata": {},
   "outputs": [],
   "source": [
    "class Faiz(Papa,Ammi):\n",
    "    def assign_string_three(self,str3):\n",
    "        self.str3 = str3\n",
    "    def show_string_three(self):\n",
    "        return(self.str3)"
   ]
  },
  {
   "cell_type": "code",
   "execution_count": 29,
   "id": "fe403387",
   "metadata": {},
   "outputs": [],
   "source": [
    "aa = Faiz()"
   ]
  },
  {
   "cell_type": "code",
   "execution_count": 30,
   "id": "134d8555",
   "metadata": {},
   "outputs": [],
   "source": [
    "aa.assign_string_one(\"shafique ali\")"
   ]
  },
  {
   "cell_type": "code",
   "execution_count": 31,
   "id": "cfa975b8",
   "metadata": {},
   "outputs": [
    {
     "data": {
      "text/plain": [
       "'shafique ali'"
      ]
     },
     "execution_count": 31,
     "metadata": {},
     "output_type": "execute_result"
    }
   ],
   "source": [
    "aa.show_string_one()"
   ]
  },
  {
   "cell_type": "code",
   "execution_count": 32,
   "id": "30a0f5a3",
   "metadata": {},
   "outputs": [],
   "source": [
    "aa.assign_string_two(\"azeeza bano\")"
   ]
  },
  {
   "cell_type": "code",
   "execution_count": 33,
   "id": "a15aab9f",
   "metadata": {},
   "outputs": [
    {
     "data": {
      "text/plain": [
       "'azeeza bano'"
      ]
     },
     "execution_count": 33,
     "metadata": {},
     "output_type": "execute_result"
    }
   ],
   "source": [
    "aa.show_string_two()"
   ]
  },
  {
   "cell_type": "code",
   "execution_count": 34,
   "id": "59fdd930",
   "metadata": {},
   "outputs": [],
   "source": [
    "aa.assign_string_three(\"faizan ali\")"
   ]
  },
  {
   "cell_type": "code",
   "execution_count": 35,
   "id": "851694af",
   "metadata": {},
   "outputs": [
    {
     "data": {
      "text/plain": [
       "'faizan ali'"
      ]
     },
     "execution_count": 35,
     "metadata": {},
     "output_type": "execute_result"
    }
   ],
   "source": [
    "aa.show_string_three()"
   ]
  },
  {
   "cell_type": "code",
   "execution_count": 1,
   "id": "1a21cf42",
   "metadata": {},
   "outputs": [],
   "source": [
    "#super class child class , grand child class"
   ]
  },
  {
   "cell_type": "code",
   "execution_count": 2,
   "id": "4fe89a5c",
   "metadata": {},
   "outputs": [],
   "source": [
    "class Parent:\n",
    "    def get_name(self,name):\n",
    "        self.name = name\n",
    "    def show_name(self):\n",
    "        return(self.name)"
   ]
  },
  {
   "cell_type": "code",
   "execution_count": 3,
   "id": "88feba0b",
   "metadata": {},
   "outputs": [],
   "source": [
    "class Child(Parent):\n",
    "    def get_age(self,age):\n",
    "        self.age = age\n",
    "    def show_age(self):\n",
    "        return(self.age)"
   ]
  },
  {
   "cell_type": "code",
   "execution_count": 4,
   "id": "339f31c6",
   "metadata": {},
   "outputs": [],
   "source": [
    "class Grandchild(Child):\n",
    "    def get_gender(self,gender):\n",
    "        self.gender = gender\n",
    "    def show_gender(self):\n",
    "        return(self.gender)"
   ]
  },
  {
   "cell_type": "code",
   "execution_count": 5,
   "id": "2c47a519",
   "metadata": {},
   "outputs": [],
   "source": [
    "aa = Grandchild()"
   ]
  },
  {
   "cell_type": "code",
   "execution_count": 6,
   "id": "d0c01238",
   "metadata": {},
   "outputs": [],
   "source": [
    "aa.get_name(\"faizan ali\")"
   ]
  },
  {
   "cell_type": "code",
   "execution_count": 7,
   "id": "8473c1e6",
   "metadata": {},
   "outputs": [
    {
     "data": {
      "text/plain": [
       "'faizan ali'"
      ]
     },
     "execution_count": 7,
     "metadata": {},
     "output_type": "execute_result"
    }
   ],
   "source": [
    "aa.show_name()"
   ]
  },
  {
   "cell_type": "code",
   "execution_count": 8,
   "id": "f4300131",
   "metadata": {},
   "outputs": [],
   "source": [
    "aa.get_age(22)"
   ]
  },
  {
   "cell_type": "code",
   "execution_count": 9,
   "id": "5e116396",
   "metadata": {},
   "outputs": [
    {
     "data": {
      "text/plain": [
       "22"
      ]
     },
     "execution_count": 9,
     "metadata": {},
     "output_type": "execute_result"
    }
   ],
   "source": [
    "aa.show_age()"
   ]
  },
  {
   "cell_type": "code",
   "execution_count": 10,
   "id": "344c9312",
   "metadata": {},
   "outputs": [],
   "source": [
    "aa.get_gender(\"male\")"
   ]
  },
  {
   "cell_type": "code",
   "execution_count": 11,
   "id": "4ceccfaf",
   "metadata": {},
   "outputs": [
    {
     "data": {
      "text/plain": [
       "'male'"
      ]
     },
     "execution_count": 11,
     "metadata": {},
     "output_type": "execute_result"
    }
   ],
   "source": [
    "aa.show_gender()"
   ]
  },
  {
   "cell_type": "code",
   "execution_count": null,
   "id": "f45a4a95",
   "metadata": {},
   "outputs": [],
   "source": []
  }
 ],
 "metadata": {
  "kernelspec": {
   "display_name": "Python 3 (ipykernel)",
   "language": "python",
   "name": "python3"
  },
  "language_info": {
   "codemirror_mode": {
    "name": "ipython",
    "version": 3
   },
   "file_extension": ".py",
   "mimetype": "text/x-python",
   "name": "python",
   "nbconvert_exporter": "python",
   "pygments_lexer": "ipython3",
   "version": "3.9.13"
  }
 },
 "nbformat": 4,
 "nbformat_minor": 5
}
