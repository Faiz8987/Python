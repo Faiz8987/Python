{
 "cells": [
  {
   "cell_type": "code",
   "execution_count": 1,
   "id": "ae4612fa",
   "metadata": {},
   "outputs": [],
   "source": [
    "#object"
   ]
  },
  {
   "cell_type": "code",
   "execution_count": 4,
   "id": "f1b0efa7",
   "metadata": {},
   "outputs": [],
   "source": [
    "class Phone:\n",
    "    def make_call(self):\n",
    "        print(\"i am making a call\")\n",
    "    def play_game(self):\n",
    "        print(\"i am playing a game\")"
   ]
  },
  {
   "cell_type": "code",
   "execution_count": 6,
   "id": "16991d6c",
   "metadata": {},
   "outputs": [],
   "source": [
    "pp = Phone()"
   ]
  },
  {
   "cell_type": "code",
   "execution_count": 8,
   "id": "d968df32",
   "metadata": {},
   "outputs": [
    {
     "name": "stdout",
     "output_type": "stream",
     "text": [
      "i am making a call\n"
     ]
    }
   ],
   "source": [
    "pp.make_call()"
   ]
  },
  {
   "cell_type": "code",
   "execution_count": 9,
   "id": "5cfb4718",
   "metadata": {},
   "outputs": [
    {
     "name": "stdout",
     "output_type": "stream",
     "text": [
      "i am playing a game\n"
     ]
    }
   ],
   "source": [
    "pp.play_game()"
   ]
  },
  {
   "cell_type": "code",
   "execution_count": 10,
   "id": "d5de435c",
   "metadata": {},
   "outputs": [],
   "source": [
    "class Car:\n",
    "    def run_car(self):\n",
    "        print(\"i am runing a car\")\n",
    "    def pause_car(self):\n",
    "        print(\"i stoped the car\")"
   ]
  },
  {
   "cell_type": "code",
   "execution_count": 16,
   "id": "1a8f5f5d",
   "metadata": {},
   "outputs": [],
   "source": [
    "car1 = Car()"
   ]
  },
  {
   "cell_type": "code",
   "execution_count": 17,
   "id": "63a281bf",
   "metadata": {},
   "outputs": [
    {
     "name": "stdout",
     "output_type": "stream",
     "text": [
      "i am runing a car\n"
     ]
    }
   ],
   "source": [
    "car1.run_car()"
   ]
  },
  {
   "cell_type": "code",
   "execution_count": 18,
   "id": "d0aaf2e7",
   "metadata": {},
   "outputs": [
    {
     "name": "stdout",
     "output_type": "stream",
     "text": [
      "i stoped the car\n"
     ]
    }
   ],
   "source": [
    "car1.pause_car()"
   ]
  },
  {
   "cell_type": "code",
   "execution_count": 19,
   "id": "2ef9ac8b",
   "metadata": {},
   "outputs": [],
   "source": [
    "class Car:\n",
    "    def set_color(self,color):\n",
    "        self.color=color\n",
    "    def set_cost(self,cost):\n",
    "        self.cost=cost\n",
    "    def show_color(self):\n",
    "        return self.color\n",
    "    def show_cost(self):\n",
    "        return self.cost\n",
    "    def start(self):\n",
    "        print(\"run a car\")\n",
    "    def park(self):\n",
    "        print(\"stop the car\")\n",
    " "
   ]
  },
  {
   "cell_type": "code",
   "execution_count": 20,
   "id": "b236cd13",
   "metadata": {},
   "outputs": [],
   "source": [
    "car2 = Car()"
   ]
  },
  {
   "cell_type": "code",
   "execution_count": 21,
   "id": "1872b0a8",
   "metadata": {},
   "outputs": [],
   "source": [
    "car2.set_color(\"black\")"
   ]
  },
  {
   "cell_type": "code",
   "execution_count": 22,
   "id": "4a4929c1",
   "metadata": {},
   "outputs": [],
   "source": [
    "car2.set_cost(1000)"
   ]
  },
  {
   "cell_type": "code",
   "execution_count": 23,
   "id": "a1d6858d",
   "metadata": {},
   "outputs": [
    {
     "data": {
      "text/plain": [
       "'black'"
      ]
     },
     "execution_count": 23,
     "metadata": {},
     "output_type": "execute_result"
    }
   ],
   "source": [
    "car2.show_color()"
   ]
  },
  {
   "cell_type": "code",
   "execution_count": 24,
   "id": "57c64bf3",
   "metadata": {},
   "outputs": [
    {
     "data": {
      "text/plain": [
       "1000"
      ]
     },
     "execution_count": 24,
     "metadata": {},
     "output_type": "execute_result"
    }
   ],
   "source": [
    "car2.show_cost()"
   ]
  },
  {
   "cell_type": "code",
   "execution_count": 25,
   "id": "79464aca",
   "metadata": {},
   "outputs": [
    {
     "name": "stdout",
     "output_type": "stream",
     "text": [
      "run a car\n"
     ]
    }
   ],
   "source": [
    "car2.start()"
   ]
  },
  {
   "cell_type": "code",
   "execution_count": 26,
   "id": "d702b1e1",
   "metadata": {},
   "outputs": [
    {
     "name": "stdout",
     "output_type": "stream",
     "text": [
      "stop the car\n"
     ]
    }
   ],
   "source": [
    "car2.park()"
   ]
  },
  {
   "cell_type": "code",
   "execution_count": 27,
   "id": "5fc66deb",
   "metadata": {},
   "outputs": [],
   "source": [
    "class Laptop:\n",
    "    def set_brand(self,brand):\n",
    "        self.brand=brand\n",
    "    def set_color(self,color):\n",
    "        self.color=color\n",
    "    def set_cost(self,cost):\n",
    "        self.cost=cost\n",
    "    def show_brand(self):\n",
    "        return self.brand\n",
    "    def show_color(self):\n",
    "        return self.color\n",
    "    def show_cost(self):\n",
    "        return self.cost"
   ]
  },
  {
   "cell_type": "code",
   "execution_count": 29,
   "id": "1ec8fce5",
   "metadata": {},
   "outputs": [],
   "source": [
    "ll = Laptop()"
   ]
  },
  {
   "cell_type": "code",
   "execution_count": 30,
   "id": "36af5f1a",
   "metadata": {},
   "outputs": [],
   "source": [
    "ll.set_brand(\"lenovo\")"
   ]
  },
  {
   "cell_type": "code",
   "execution_count": 31,
   "id": "acf4b495",
   "metadata": {},
   "outputs": [],
   "source": [
    "ll.set_color(\"silver\")"
   ]
  },
  {
   "cell_type": "code",
   "execution_count": 32,
   "id": "a8ba447d",
   "metadata": {},
   "outputs": [],
   "source": [
    "ll.set_cost(36000)"
   ]
  },
  {
   "cell_type": "code",
   "execution_count": 33,
   "id": "4308184b",
   "metadata": {},
   "outputs": [
    {
     "data": {
      "text/plain": [
       "'lenovo'"
      ]
     },
     "execution_count": 33,
     "metadata": {},
     "output_type": "execute_result"
    }
   ],
   "source": [
    "ll.show_brand()"
   ]
  },
  {
   "cell_type": "code",
   "execution_count": 34,
   "id": "cf088df8",
   "metadata": {},
   "outputs": [
    {
     "data": {
      "text/plain": [
       "'silver'"
      ]
     },
     "execution_count": 34,
     "metadata": {},
     "output_type": "execute_result"
    }
   ],
   "source": [
    "ll.show_color()"
   ]
  },
  {
   "cell_type": "code",
   "execution_count": 35,
   "id": "c995419c",
   "metadata": {},
   "outputs": [
    {
     "data": {
      "text/plain": [
       "36000"
      ]
     },
     "execution_count": 35,
     "metadata": {},
     "output_type": "execute_result"
    }
   ],
   "source": [
    "ll.show_cost()"
   ]
  },
  {
   "cell_type": "code",
   "execution_count": 9,
   "id": "baa46a4e",
   "metadata": {},
   "outputs": [],
   "source": [
    "class Employee:\n",
    "    def __init__(self,name,age,salary):\n",
    "        self.name = name\n",
    "        self.age = age\n",
    "        self.salary = salary\n",
    "    def show_details(self):\n",
    "        print('name is ',self.name)\n",
    "        print('age is ', self.age)\n",
    "        print('salary is ',self.salary)"
   ]
  },
  {
   "cell_type": "code",
   "execution_count": 12,
   "id": "0daab657",
   "metadata": {},
   "outputs": [],
   "source": [
    "aa = Employee ('faizan',22,50000)"
   ]
  },
  {
   "cell_type": "code",
   "execution_count": 13,
   "id": "a9199014",
   "metadata": {},
   "outputs": [
    {
     "name": "stdout",
     "output_type": "stream",
     "text": [
      "name is  faizan\n",
      "age is  22\n",
      "salary is  50000\n"
     ]
    }
   ],
   "source": [
    "aa.show_details()"
   ]
  },
  {
   "cell_type": "code",
   "execution_count": 7,
   "id": "31fe08f3",
   "metadata": {},
   "outputs": [],
   "source": [
    "class I:\n",
    "    def __init__(self,name,age,salary):\n",
    "        self.name = name\n",
    "        self.age = age\n",
    "        self.salary = salary\n",
    "    def show_details(self):\n",
    "        print(self.name)\n",
    "        print(self.age)\n",
    "        print(self.salary)"
   ]
  },
  {
   "cell_type": "code",
   "execution_count": 8,
   "id": "d3071680",
   "metadata": {},
   "outputs": [],
   "source": [
    "ww = I ('faizan',21,6000)"
   ]
  },
  {
   "cell_type": "code",
   "execution_count": 9,
   "id": "a53eec5c",
   "metadata": {},
   "outputs": [
    {
     "name": "stdout",
     "output_type": "stream",
     "text": [
      "faizan\n",
      "21\n",
      "6000\n"
     ]
    }
   ],
   "source": [
    "ww.show_details()"
   ]
  },
  {
   "cell_type": "code",
   "execution_count": 2,
   "id": "6bc9b38e",
   "metadata": {},
   "outputs": [],
   "source": [
    "#child class"
   ]
  },
  {
   "cell_type": "code",
   "execution_count": 10,
   "id": "bd30d4d6",
   "metadata": {},
   "outputs": [],
   "source": [
    "class J (I):\n",
    "    def show_detail2(self):\n",
    "        print('jojo')"
   ]
  },
  {
   "cell_type": "code",
   "execution_count": 11,
   "id": "c29a3021",
   "metadata": {},
   "outputs": [],
   "source": [
    "qq = J('dilshad',24,100000)"
   ]
  },
  {
   "cell_type": "code",
   "execution_count": 12,
   "id": "02cb0454",
   "metadata": {},
   "outputs": [
    {
     "name": "stdout",
     "output_type": "stream",
     "text": [
      "dilshad\n",
      "24\n",
      "100000\n"
     ]
    }
   ],
   "source": [
    "qq.show_details()"
   ]
  },
  {
   "cell_type": "code",
   "execution_count": null,
   "id": "42915c4b",
   "metadata": {},
   "outputs": [],
   "source": []
  }
 ],
 "metadata": {
  "kernelspec": {
   "display_name": "Python 3 (ipykernel)",
   "language": "python",
   "name": "python3"
  },
  "language_info": {
   "codemirror_mode": {
    "name": "ipython",
    "version": 3
   },
   "file_extension": ".py",
   "mimetype": "text/x-python",
   "name": "python",
   "nbconvert_exporter": "python",
   "pygments_lexer": "ipython3",
   "version": "3.9.13"
  }
 },
 "nbformat": 4,
 "nbformat_minor": 5
}
