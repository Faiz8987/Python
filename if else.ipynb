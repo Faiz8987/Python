{
 "cells": [
  {
   "cell_type": "code",
   "execution_count": 1,
   "id": "537aaf85",
   "metadata": {},
   "outputs": [
    {
     "data": {
      "text/plain": [
       "(100, 500)"
      ]
     },
     "execution_count": 1,
     "metadata": {},
     "output_type": "execute_result"
    }
   ],
   "source": [
    "a = 100\n",
    "b = 500\n",
    "a,b"
   ]
  },
  {
   "cell_type": "code",
   "execution_count": 6,
   "id": "5e0ed6ed",
   "metadata": {},
   "outputs": [
    {
     "name": "stdout",
     "output_type": "stream",
     "text": [
      "faiz is best\n"
     ]
    }
   ],
   "source": [
    "if b > a:\n",
    "    print(\"faiz is best\")\n",
    "else:\n",
    "    print(\"faiz is coder\")\n",
    "      "
   ]
  },
  {
   "cell_type": "code",
   "execution_count": 7,
   "id": "fd699b34",
   "metadata": {},
   "outputs": [
    {
     "data": {
      "text/plain": [
       "(99, 88, 77)"
      ]
     },
     "execution_count": 7,
     "metadata": {},
     "output_type": "execute_result"
    }
   ],
   "source": [
    "a = 99\n",
    "b = 88\n",
    "c = 77\n",
    "a,b,c"
   ]
  },
  {
   "cell_type": "code",
   "execution_count": 9,
   "id": "ca899ff4",
   "metadata": {},
   "outputs": [
    {
     "name": "stdout",
     "output_type": "stream",
     "text": [
      "a is winner\n"
     ]
    }
   ],
   "source": [
    "if (a>b) & (a>c):\n",
    "    print(\"a is winner\")\n",
    "elif (b>a) & (b>c):\n",
    "        print(\"b is winner\")\n",
    "else:\n",
    "        print(\"c is winner\")"
   ]
  },
  {
   "cell_type": "code",
   "execution_count": 10,
   "id": "4025b431",
   "metadata": {},
   "outputs": [],
   "source": [
    "#ifwithtuple"
   ]
  },
  {
   "cell_type": "code",
   "execution_count": 11,
   "id": "78ccf796",
   "metadata": {},
   "outputs": [
    {
     "data": {
      "text/plain": [
       "('a', 'b', 'c')"
      ]
     },
     "execution_count": 11,
     "metadata": {},
     "output_type": "execute_result"
    }
   ],
   "source": [
    "tup = ('a','b','c')\n",
    "tup"
   ]
  },
  {
   "cell_type": "code",
   "execution_count": 13,
   "id": "e0dc32f0",
   "metadata": {},
   "outputs": [
    {
     "name": "stdout",
     "output_type": "stream",
     "text": [
      "not present\n"
     ]
    }
   ],
   "source": [
    "if 'z' in tup:\n",
    "    print(\"present\")\n",
    "else:\n",
    "    print(\"not present\")"
   ]
  },
  {
   "cell_type": "code",
   "execution_count": 14,
   "id": "e964fdcb",
   "metadata": {},
   "outputs": [],
   "source": [
    "#in list"
   ]
  },
  {
   "cell_type": "code",
   "execution_count": 15,
   "id": "bb2a3866",
   "metadata": {},
   "outputs": [
    {
     "data": {
      "text/plain": [
       "['a', 'b', 'v']"
      ]
     },
     "execution_count": 15,
     "metadata": {},
     "output_type": "execute_result"
    }
   ],
   "source": [
    "ll = ['a','b','v']\n",
    "ll"
   ]
  },
  {
   "cell_type": "code",
   "execution_count": 17,
   "id": "070b34d2",
   "metadata": {},
   "outputs": [],
   "source": [
    "if ll[1]=='b':\n",
    "    ll[1]='z'\n",
    "    "
   ]
  },
  {
   "cell_type": "code",
   "execution_count": 18,
   "id": "cc6fdb86",
   "metadata": {},
   "outputs": [
    {
     "data": {
      "text/plain": [
       "['a', 'z', 'v']"
      ]
     },
     "execution_count": 18,
     "metadata": {},
     "output_type": "execute_result"
    }
   ],
   "source": [
    "ll"
   ]
  },
  {
   "cell_type": "code",
   "execution_count": 19,
   "id": "256746d3",
   "metadata": {},
   "outputs": [],
   "source": [
    "#dictionary"
   ]
  },
  {
   "cell_type": "code",
   "execution_count": 20,
   "id": "8d196d1b",
   "metadata": {},
   "outputs": [
    {
     "data": {
      "text/plain": [
       "{'aa': 10, 'bb': 20, 'cc': 30}"
      ]
     },
     "execution_count": 20,
     "metadata": {},
     "output_type": "execute_result"
    }
   ],
   "source": [
    "dd = {'aa':10,'bb':20,'cc':30}\n",
    "dd"
   ]
  },
  {
   "cell_type": "code",
   "execution_count": 21,
   "id": "a3be1d43",
   "metadata": {},
   "outputs": [],
   "source": [
    "if dd['cc']==30:\n",
    "    dd['cc']=100"
   ]
  },
  {
   "cell_type": "code",
   "execution_count": 22,
   "id": "a4a5a38e",
   "metadata": {},
   "outputs": [
    {
     "data": {
      "text/plain": [
       "{'aa': 10, 'bb': 20, 'cc': 100}"
      ]
     },
     "execution_count": 22,
     "metadata": {},
     "output_type": "execute_result"
    }
   ],
   "source": [
    "dd"
   ]
  },
  {
   "cell_type": "code",
   "execution_count": 24,
   "id": "309e8454",
   "metadata": {},
   "outputs": [],
   "source": [
    "if dd['aa']==10:\n",
    "    dd['aa']=dd['aa']+30"
   ]
  },
  {
   "cell_type": "code",
   "execution_count": 25,
   "id": "f0588220",
   "metadata": {},
   "outputs": [
    {
     "data": {
      "text/plain": [
       "{'aa': 40, 'bb': 20, 'cc': 100}"
      ]
     },
     "execution_count": 25,
     "metadata": {},
     "output_type": "execute_result"
    }
   ],
   "source": [
    "dd"
   ]
  },
  {
   "cell_type": "code",
   "execution_count": null,
   "id": "085ec70f",
   "metadata": {},
   "outputs": [],
   "source": []
  }
 ],
 "metadata": {
  "kernelspec": {
   "display_name": "Python 3 (ipykernel)",
   "language": "python",
   "name": "python3"
  },
  "language_info": {
   "codemirror_mode": {
    "name": "ipython",
    "version": 3
   },
   "file_extension": ".py",
   "mimetype": "text/x-python",
   "name": "python",
   "nbconvert_exporter": "python",
   "pygments_lexer": "ipython3",
   "version": "3.9.13"
  }
 },
 "nbformat": 4,
 "nbformat_minor": 5
}
