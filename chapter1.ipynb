{
 "cells": [
  {
   "cell_type": "code",
   "execution_count": 2,
   "id": "3dec6a4d",
   "metadata": {},
   "outputs": [
    {
     "name": "stdout",
     "output_type": "stream",
     "text": [
      "hellow world\n"
     ]
    }
   ],
   "source": [
    "print(\"hellow world\" )"
   ]
  },
  {
   "cell_type": "code",
   "execution_count": 5,
   "id": "a0081969",
   "metadata": {},
   "outputs": [],
   "source": [
    "student = (\"faizan\")\n"
   ]
  },
  {
   "cell_type": "code",
   "execution_count": 6,
   "id": "8f2ed785",
   "metadata": {},
   "outputs": [
    {
     "name": "stdout",
     "output_type": "stream",
     "text": [
      "faizan\n"
     ]
    }
   ],
   "source": [
    "print(student)"
   ]
  },
  {
   "cell_type": "code",
   "execution_count": 7,
   "id": "74875eb6",
   "metadata": {},
   "outputs": [],
   "source": [
    "student =(\"haneef\")"
   ]
  },
  {
   "cell_type": "code",
   "execution_count": 8,
   "id": "841729d2",
   "metadata": {},
   "outputs": [
    {
     "name": "stdout",
     "output_type": "stream",
     "text": [
      "haneef\n"
     ]
    }
   ],
   "source": [
    "print(student)"
   ]
  },
  {
   "cell_type": "code",
   "execution_count": 9,
   "id": "9c043aa1",
   "metadata": {},
   "outputs": [
    {
     "data": {
      "text/plain": [
       "1000"
      ]
     },
     "execution_count": 9,
     "metadata": {},
     "output_type": "execute_result"
    }
   ],
   "source": [
    "money = 1000\n",
    "money"
   ]
  },
  {
   "cell_type": "code",
   "execution_count": 10,
   "id": "6c144354",
   "metadata": {},
   "outputs": [
    {
     "data": {
      "text/plain": [
       "int"
      ]
     },
     "execution_count": 10,
     "metadata": {},
     "output_type": "execute_result"
    }
   ],
   "source": [
    "type(money)\n"
   ]
  },
  {
   "cell_type": "code",
   "execution_count": 11,
   "id": "b739ec7b",
   "metadata": {},
   "outputs": [
    {
     "data": {
      "text/plain": [
       "100.99"
      ]
     },
     "execution_count": 11,
     "metadata": {},
     "output_type": "execute_result"
    }
   ],
   "source": [
    "money = 100.99\n",
    "money"
   ]
  },
  {
   "cell_type": "code",
   "execution_count": 12,
   "id": "3607b0ad",
   "metadata": {},
   "outputs": [
    {
     "data": {
      "text/plain": [
       "float"
      ]
     },
     "execution_count": 12,
     "metadata": {},
     "output_type": "execute_result"
    }
   ],
   "source": [
    "type(money)"
   ]
  },
  {
   "cell_type": "code",
   "execution_count": 13,
   "id": "fca76d7f",
   "metadata": {},
   "outputs": [
    {
     "data": {
      "text/plain": [
       "str"
      ]
     },
     "execution_count": 13,
     "metadata": {},
     "output_type": "execute_result"
    }
   ],
   "source": [
    "type(student)"
   ]
  },
  {
   "cell_type": "code",
   "execution_count": 17,
   "id": "3ad8e881",
   "metadata": {},
   "outputs": [
    {
     "data": {
      "text/plain": [
       "bool"
      ]
     },
     "execution_count": 17,
     "metadata": {},
     "output_type": "execute_result"
    }
   ],
   "source": [
    "money = True\n",
    "type(money)\n"
   ]
  },
  {
   "cell_type": "code",
   "execution_count": 18,
   "id": "934a86c2",
   "metadata": {},
   "outputs": [
    {
     "data": {
      "text/plain": [
       "500"
      ]
     },
     "execution_count": 18,
     "metadata": {},
     "output_type": "execute_result"
    }
   ],
   "source": [
    "dd =500\n",
    "dd\n"
   ]
  },
  {
   "cell_type": "code",
   "execution_count": null,
   "id": "eab57534",
   "metadata": {},
   "outputs": [],
   "source": [
    "#arethmetic opretaor"
   ]
  },
  {
   "cell_type": "code",
   "execution_count": 19,
   "id": "30227227",
   "metadata": {},
   "outputs": [
    {
     "data": {
      "text/plain": [
       "500"
      ]
     },
     "execution_count": 19,
     "metadata": {},
     "output_type": "execute_result"
    }
   ],
   "source": [
    "dd"
   ]
  },
  {
   "cell_type": "code",
   "execution_count": 20,
   "id": "efd8b9ed",
   "metadata": {},
   "outputs": [
    {
     "data": {
      "text/plain": [
       "600"
      ]
     },
     "execution_count": 20,
     "metadata": {},
     "output_type": "execute_result"
    }
   ],
   "source": [
    "money =600\n",
    "money"
   ]
  },
  {
   "cell_type": "code",
   "execution_count": 21,
   "id": "b6c9bc4b",
   "metadata": {},
   "outputs": [
    {
     "data": {
      "text/plain": [
       "1100"
      ]
     },
     "execution_count": 21,
     "metadata": {},
     "output_type": "execute_result"
    }
   ],
   "source": [
    "dd+money"
   ]
  },
  {
   "cell_type": "code",
   "execution_count": 22,
   "id": "3b63fb55",
   "metadata": {},
   "outputs": [
    {
     "data": {
      "text/plain": [
       "-100"
      ]
     },
     "execution_count": 22,
     "metadata": {},
     "output_type": "execute_result"
    }
   ],
   "source": [
    "dd-money"
   ]
  },
  {
   "cell_type": "code",
   "execution_count": 23,
   "id": "9f44566d",
   "metadata": {},
   "outputs": [
    {
     "data": {
      "text/plain": [
       "300000"
      ]
     },
     "execution_count": 23,
     "metadata": {},
     "output_type": "execute_result"
    }
   ],
   "source": [
    "dd*money"
   ]
  },
  {
   "cell_type": "code",
   "execution_count": 24,
   "id": "45149d00",
   "metadata": {},
   "outputs": [
    {
     "data": {
      "text/plain": [
       "0.8333333333333334"
      ]
     },
     "execution_count": 24,
     "metadata": {},
     "output_type": "execute_result"
    }
   ],
   "source": [
    "dd/money"
   ]
  },
  {
   "cell_type": "code",
   "execution_count": 31,
   "id": "32df0ef8",
   "metadata": {},
   "outputs": [],
   "source": [
    "#relational opreators"
   ]
  },
  {
   "cell_type": "code",
   "execution_count": 25,
   "id": "f2411162",
   "metadata": {},
   "outputs": [
    {
     "data": {
      "text/plain": [
       "False"
      ]
     },
     "execution_count": 25,
     "metadata": {},
     "output_type": "execute_result"
    }
   ],
   "source": [
    "dd>money"
   ]
  },
  {
   "cell_type": "code",
   "execution_count": 26,
   "id": "e35c1005",
   "metadata": {},
   "outputs": [
    {
     "data": {
      "text/plain": [
       "True"
      ]
     },
     "execution_count": 26,
     "metadata": {},
     "output_type": "execute_result"
    }
   ],
   "source": [
    "dd<money"
   ]
  },
  {
   "cell_type": "code",
   "execution_count": 27,
   "id": "4735f44e",
   "metadata": {},
   "outputs": [
    {
     "data": {
      "text/plain": [
       "False"
      ]
     },
     "execution_count": 27,
     "metadata": {},
     "output_type": "execute_result"
    }
   ],
   "source": [
    "dd==money"
   ]
  },
  {
   "cell_type": "code",
   "execution_count": 28,
   "id": "b62375d6",
   "metadata": {},
   "outputs": [
    {
     "data": {
      "text/plain": [
       "True"
      ]
     },
     "execution_count": 28,
     "metadata": {},
     "output_type": "execute_result"
    }
   ],
   "source": [
    "dd!=money"
   ]
  },
  {
   "cell_type": "code",
   "execution_count": 29,
   "id": "7758d1b0",
   "metadata": {},
   "outputs": [],
   "source": [
    "#logical opreators"
   ]
  },
  {
   "cell_type": "code",
   "execution_count": 30,
   "id": "972f192b",
   "metadata": {},
   "outputs": [
    {
     "data": {
      "text/plain": [
       "80"
      ]
     },
     "execution_count": 30,
     "metadata": {},
     "output_type": "execute_result"
    }
   ],
   "source": [
    "dd&money"
   ]
  },
  {
   "cell_type": "code",
   "execution_count": 36,
   "id": "d8b62c3d",
   "metadata": {},
   "outputs": [
    {
     "data": {
      "text/plain": [
       "(True, False)"
      ]
     },
     "execution_count": 36,
     "metadata": {},
     "output_type": "execute_result"
    }
   ],
   "source": [
    "dd = True\n",
    "hh = False\n",
    "dd,hh"
   ]
  },
  {
   "cell_type": "code",
   "execution_count": 37,
   "id": "a7dbfe13",
   "metadata": {},
   "outputs": [
    {
     "data": {
      "text/plain": [
       "False"
      ]
     },
     "execution_count": 37,
     "metadata": {},
     "output_type": "execute_result"
    }
   ],
   "source": [
    "dd & hh"
   ]
  },
  {
   "cell_type": "code",
   "execution_count": 38,
   "id": "e50f19a6",
   "metadata": {},
   "outputs": [
    {
     "data": {
      "text/plain": [
       "True"
      ]
     },
     "execution_count": 38,
     "metadata": {},
     "output_type": "execute_result"
    }
   ],
   "source": [
    "dd & dd"
   ]
  },
  {
   "cell_type": "code",
   "execution_count": 39,
   "id": "2aca334f",
   "metadata": {},
   "outputs": [
    {
     "data": {
      "text/plain": [
       "False"
      ]
     },
     "execution_count": 39,
     "metadata": {},
     "output_type": "execute_result"
    }
   ],
   "source": [
    "hh & hh"
   ]
  },
  {
   "cell_type": "code",
   "execution_count": 40,
   "id": "82dc2025",
   "metadata": {},
   "outputs": [
    {
     "data": {
      "text/plain": [
       "True"
      ]
     },
     "execution_count": 40,
     "metadata": {},
     "output_type": "execute_result"
    }
   ],
   "source": [
    "dd | hh"
   ]
  },
  {
   "cell_type": "code",
   "execution_count": 41,
   "id": "07fa6bc6",
   "metadata": {},
   "outputs": [
    {
     "data": {
      "text/plain": [
       "False"
      ]
     },
     "execution_count": 41,
     "metadata": {},
     "output_type": "execute_result"
    }
   ],
   "source": [
    "hh | hh"
   ]
  },
  {
   "cell_type": "code",
   "execution_count": 44,
   "id": "66554a39",
   "metadata": {},
   "outputs": [
    {
     "data": {
      "text/plain": [
       "False"
      ]
     },
     "execution_count": 44,
     "metadata": {},
     "output_type": "execute_result"
    }
   ],
   "source": [
    "hh | hh"
   ]
  },
  {
   "cell_type": "code",
   "execution_count": 45,
   "id": "621d8c87",
   "metadata": {},
   "outputs": [
    {
     "data": {
      "text/plain": [
       "False"
      ]
     },
     "execution_count": 45,
     "metadata": {},
     "output_type": "execute_result"
    }
   ],
   "source": [
    "hh"
   ]
  },
  {
   "cell_type": "code",
   "execution_count": 46,
   "id": "08ee0bfc",
   "metadata": {},
   "outputs": [
    {
     "data": {
      "text/plain": [
       "'haneef'"
      ]
     },
     "execution_count": 46,
     "metadata": {},
     "output_type": "execute_result"
    }
   ],
   "source": [
    "student"
   ]
  },
  {
   "cell_type": "code",
   "execution_count": 21,
   "id": "cae34d9b",
   "metadata": {},
   "outputs": [
    {
     "data": {
      "text/plain": [
       "'hey this is faiz'"
      ]
     },
     "execution_count": 21,
     "metadata": {},
     "output_type": "execute_result"
    }
   ],
   "source": [
    "sentence = \"hey this is faiz\"\n",
    "sentence"
   ]
  },
  {
   "cell_type": "code",
   "execution_count": 3,
   "id": "e8d95e49",
   "metadata": {},
   "outputs": [
    {
     "data": {
      "text/plain": [
       "'hello this is faiz'"
      ]
     },
     "execution_count": 3,
     "metadata": {},
     "output_type": "execute_result"
    }
   ],
   "source": [
    "sentence"
   ]
  },
  {
   "cell_type": "code",
   "execution_count": 5,
   "id": "654d2ec4",
   "metadata": {},
   "outputs": [
    {
     "data": {
      "text/plain": [
       "'hello this is faizan'"
      ]
     },
     "execution_count": 5,
     "metadata": {},
     "output_type": "execute_result"
    }
   ],
   "source": [
    "sen = \"hello this is faizan\"\n",
    "sen"
   ]
  },
  {
   "cell_type": "code",
   "execution_count": 6,
   "id": "1eb1f8a5",
   "metadata": {},
   "outputs": [
    {
     "data": {
      "text/plain": [
       "'hello this is faizan'"
      ]
     },
     "execution_count": 6,
     "metadata": {},
     "output_type": "execute_result"
    }
   ],
   "source": [
    "sen"
   ]
  },
  {
   "cell_type": "code",
   "execution_count": 8,
   "id": "9eadaa3d",
   "metadata": {},
   "outputs": [
    {
     "data": {
      "text/plain": [
       "' this veriable \\nhas lot\\nof lines'"
      ]
     },
     "execution_count": 8,
     "metadata": {},
     "output_type": "execute_result"
    }
   ],
   "source": [
    "sen = ''' this veriable \n",
    "has lot\n",
    "of lines'''\n",
    "sen\n"
   ]
  },
  {
   "cell_type": "code",
   "execution_count": 9,
   "id": "5b58e0c5",
   "metadata": {},
   "outputs": [
    {
     "data": {
      "text/plain": [
       "' this veriable \\nhas lot\\nof lines'"
      ]
     },
     "execution_count": 9,
     "metadata": {},
     "output_type": "execute_result"
    }
   ],
   "source": [
    "sen"
   ]
  },
  {
   "cell_type": "code",
   "execution_count": 12,
   "id": "affc3e27",
   "metadata": {},
   "outputs": [
    {
     "data": {
      "text/plain": [
       "'s'"
      ]
     },
     "execution_count": 12,
     "metadata": {},
     "output_type": "execute_result"
    }
   ],
   "source": [
    "sen[-1]"
   ]
  },
  {
   "cell_type": "code",
   "execution_count": 15,
   "id": "4646414b",
   "metadata": {},
   "outputs": [
    {
     "data": {
      "text/plain": [
       "'hello thi'"
      ]
     },
     "execution_count": 15,
     "metadata": {},
     "output_type": "execute_result"
    }
   ],
   "source": [
    "sentence[0:9]"
   ]
  },
  {
   "cell_type": "code",
   "execution_count": 16,
   "id": "e4d6becd",
   "metadata": {},
   "outputs": [
    {
     "data": {
      "text/plain": [
       "18"
      ]
     },
     "execution_count": 16,
     "metadata": {},
     "output_type": "execute_result"
    }
   ],
   "source": [
    "len(sentence)"
   ]
  },
  {
   "cell_type": "code",
   "execution_count": 17,
   "id": "d3a3e107",
   "metadata": {},
   "outputs": [
    {
     "data": {
      "text/plain": [
       "'HELLO THIS IS FAIZ'"
      ]
     },
     "execution_count": 17,
     "metadata": {},
     "output_type": "execute_result"
    }
   ],
   "source": [
    "sentence.upper()"
   ]
  },
  {
   "cell_type": "code",
   "execution_count": 18,
   "id": "ec6bf5f7",
   "metadata": {},
   "outputs": [
    {
     "data": {
      "text/plain": [
       "'hello this is faiz'"
      ]
     },
     "execution_count": 18,
     "metadata": {},
     "output_type": "execute_result"
    }
   ],
   "source": [
    "sentence.lower()"
   ]
  },
  {
   "cell_type": "code",
   "execution_count": 22,
   "id": "2e19bfe7",
   "metadata": {},
   "outputs": [
    {
     "data": {
      "text/plain": [
       "'hoy this is faiz'"
      ]
     },
     "execution_count": 22,
     "metadata": {},
     "output_type": "execute_result"
    }
   ],
   "source": [
    "sentence.replace('e','o')"
   ]
  },
  {
   "cell_type": "code",
   "execution_count": 23,
   "id": "c76dc3bf",
   "metadata": {},
   "outputs": [
    {
     "data": {
      "text/plain": [
       "'hey this is faiz'"
      ]
     },
     "execution_count": 23,
     "metadata": {},
     "output_type": "execute_result"
    }
   ],
   "source": [
    "sentence.replace('o','e')"
   ]
  },
  {
   "cell_type": "code",
   "execution_count": 27,
   "id": "d12454f4",
   "metadata": {},
   "outputs": [
    {
     "data": {
      "text/plain": [
       "'faiz faiz is coder'"
      ]
     },
     "execution_count": 27,
     "metadata": {},
     "output_type": "execute_result"
    }
   ],
   "source": [
    "jj = \"faiz faiz is coder\" \n",
    "jj"
   ]
  },
  {
   "cell_type": "code",
   "execution_count": 28,
   "id": "c24ca94e",
   "metadata": {},
   "outputs": [
    {
     "data": {
      "text/plain": [
       "2"
      ]
     },
     "execution_count": 28,
     "metadata": {},
     "output_type": "execute_result"
    }
   ],
   "source": [
    "jj.count(\"faiz\")"
   ]
  },
  {
   "cell_type": "code",
   "execution_count": 29,
   "id": "ac677ce4",
   "metadata": {},
   "outputs": [
    {
     "data": {
      "text/plain": [
       "10"
      ]
     },
     "execution_count": 29,
     "metadata": {},
     "output_type": "execute_result"
    }
   ],
   "source": [
    "jj.find('is')"
   ]
  },
  {
   "cell_type": "code",
   "execution_count": 30,
   "id": "25f62fad",
   "metadata": {},
   "outputs": [
    {
     "data": {
      "text/plain": [
       "'i'"
      ]
     },
     "execution_count": 30,
     "metadata": {},
     "output_type": "execute_result"
    }
   ],
   "source": [
    "jj[10]"
   ]
  },
  {
   "cell_type": "code",
   "execution_count": 31,
   "id": "17fb89f7",
   "metadata": {},
   "outputs": [
    {
     "data": {
      "text/plain": [
       "'i like mango,banana,apple'"
      ]
     },
     "execution_count": 31,
     "metadata": {},
     "output_type": "execute_result"
    }
   ],
   "source": [
    "fru = 'i like mango,banana,apple'\n",
    "fru"
   ]
  },
  {
   "cell_type": "code",
   "execution_count": 33,
   "id": "9dc0d31b",
   "metadata": {},
   "outputs": [
    {
     "data": {
      "text/plain": [
       "['i like mango', 'banana', 'apple']"
      ]
     },
     "execution_count": 33,
     "metadata": {},
     "output_type": "execute_result"
    }
   ],
   "source": [
    "fru.split(',')"
   ]
  },
  {
   "cell_type": "code",
   "execution_count": 34,
   "id": "541c3d05",
   "metadata": {},
   "outputs": [
    {
     "data": {
      "text/plain": [
       "'hey this is faiz'"
      ]
     },
     "execution_count": 34,
     "metadata": {},
     "output_type": "execute_result"
    }
   ],
   "source": [
    "sentence"
   ]
  },
  {
   "cell_type": "code",
   "execution_count": 35,
   "id": "7359fb06",
   "metadata": {},
   "outputs": [
    {
     "data": {
      "text/plain": [
       "['hey thi', ' i', ' faiz']"
      ]
     },
     "execution_count": 35,
     "metadata": {},
     "output_type": "execute_result"
    }
   ],
   "source": [
    "sentence.split('s')"
   ]
  },
  {
   "cell_type": "code",
   "execution_count": 36,
   "id": "8f27a824",
   "metadata": {},
   "outputs": [
    {
     "data": {
      "text/plain": [
       "'hey this is faiz'"
      ]
     },
     "execution_count": 36,
     "metadata": {},
     "output_type": "execute_result"
    }
   ],
   "source": [
    "sentence"
   ]
  },
  {
   "cell_type": "code",
   "execution_count": 5,
   "id": "8697d4af",
   "metadata": {},
   "outputs": [],
   "source": [
    "Sentence = 'fru'"
   ]
  },
  {
   "cell_type": "code",
   "execution_count": 6,
   "id": "6c38142f",
   "metadata": {},
   "outputs": [
    {
     "data": {
      "text/plain": [
       "100"
      ]
     },
     "execution_count": 6,
     "metadata": {},
     "output_type": "execute_result"
    }
   ],
   "source": [
    "uu = 100\n",
    "uu"
   ]
  },
  {
   "cell_type": "code",
   "execution_count": 7,
   "id": "44bb61de",
   "metadata": {},
   "outputs": [
    {
     "data": {
      "text/plain": [
       "100"
      ]
     },
     "execution_count": 7,
     "metadata": {},
     "output_type": "execute_result"
    }
   ],
   "source": [
    "tt = uu\n",
    "tt"
   ]
  },
  {
   "cell_type": "code",
   "execution_count": 8,
   "id": "250546bb",
   "metadata": {},
   "outputs": [
    {
     "data": {
      "text/plain": [
       "100"
      ]
     },
     "execution_count": 8,
     "metadata": {},
     "output_type": "execute_result"
    }
   ],
   "source": [
    "tt"
   ]
  },
  {
   "cell_type": "code",
   "execution_count": 9,
   "id": "879652cb",
   "metadata": {},
   "outputs": [
    {
     "data": {
      "text/plain": [
       "100"
      ]
     },
     "execution_count": 9,
     "metadata": {},
     "output_type": "execute_result"
    }
   ],
   "source": [
    "uu"
   ]
  },
  {
   "cell_type": "code",
   "execution_count": 1,
   "id": "651d7810",
   "metadata": {},
   "outputs": [
    {
     "data": {
      "text/plain": [
       "(100, 'faiz', 44.5, True)"
      ]
     },
     "execution_count": 1,
     "metadata": {},
     "output_type": "execute_result"
    }
   ],
   "source": [
    "tup1 = (100,'faiz',44.5,True)\n",
    "tup1"
   ]
  },
  {
   "cell_type": "code",
   "execution_count": 2,
   "id": "863d3eb1",
   "metadata": {},
   "outputs": [
    {
     "data": {
      "text/plain": [
       "tuple"
      ]
     },
     "execution_count": 2,
     "metadata": {},
     "output_type": "execute_result"
    }
   ],
   "source": [
    "type(tup1)"
   ]
  },
  {
   "cell_type": "code",
   "execution_count": 3,
   "id": "02640a73",
   "metadata": {},
   "outputs": [
    {
     "data": {
      "text/plain": [
       "100"
      ]
     },
     "execution_count": 3,
     "metadata": {},
     "output_type": "execute_result"
    }
   ],
   "source": [
    "tup1[0]"
   ]
  },
  {
   "cell_type": "code",
   "execution_count": 4,
   "id": "1658614c",
   "metadata": {},
   "outputs": [
    {
     "data": {
      "text/plain": [
       "True"
      ]
     },
     "execution_count": 4,
     "metadata": {},
     "output_type": "execute_result"
    }
   ],
   "source": [
    "tup1[-1]"
   ]
  },
  {
   "cell_type": "code",
   "execution_count": 5,
   "id": "b4cd285a",
   "metadata": {},
   "outputs": [
    {
     "data": {
      "text/plain": [
       "(100, 'faiz', 44.5, True)"
      ]
     },
     "execution_count": 5,
     "metadata": {},
     "output_type": "execute_result"
    }
   ],
   "source": [
    "tup1[0:4]"
   ]
  },
  {
   "cell_type": "code",
   "execution_count": 6,
   "id": "8063d650",
   "metadata": {},
   "outputs": [
    {
     "data": {
      "text/plain": [
       "'hello'"
      ]
     },
     "execution_count": 6,
     "metadata": {},
     "output_type": "execute_result"
    }
   ],
   "source": [
    "tup1 = \"hello\"\n",
    "tup1"
   ]
  },
  {
   "cell_type": "code",
   "execution_count": 7,
   "id": "0f2929d2",
   "metadata": {},
   "outputs": [
    {
     "data": {
      "text/plain": [
       "'hello'"
      ]
     },
     "execution_count": 7,
     "metadata": {},
     "output_type": "execute_result"
    }
   ],
   "source": [
    "tup1"
   ]
  },
  {
   "cell_type": "code",
   "execution_count": 9,
   "id": "f1ffc19f",
   "metadata": {},
   "outputs": [
    {
     "data": {
      "text/plain": [
       "'hey'"
      ]
     },
     "execution_count": 9,
     "metadata": {},
     "output_type": "execute_result"
    }
   ],
   "source": [
    "tup1 = 'hey'\n",
    "tup1\n"
   ]
  },
  {
   "cell_type": "code",
   "execution_count": 13,
   "id": "fe88278f",
   "metadata": {},
   "outputs": [
    {
     "data": {
      "text/plain": [
       "(88, 99, 22)"
      ]
     },
     "execution_count": 13,
     "metadata": {},
     "output_type": "execute_result"
    }
   ],
   "source": [
    "tup1 = (44,55,33)\n",
    "tup2 = (88,99,22)\n",
    "tup1\n",
    "tup2"
   ]
  },
  {
   "cell_type": "code",
   "execution_count": 14,
   "id": "a3ea98b5",
   "metadata": {},
   "outputs": [
    {
     "data": {
      "text/plain": [
       "((44, 55, 33), (88, 99, 22))"
      ]
     },
     "execution_count": 14,
     "metadata": {},
     "output_type": "execute_result"
    }
   ],
   "source": [
    "tup1,tup2\n"
   ]
  },
  {
   "cell_type": "code",
   "execution_count": 15,
   "id": "0965d439",
   "metadata": {},
   "outputs": [
    {
     "data": {
      "text/plain": [
       "(88, 99, 22, 44, 55, 33)"
      ]
     },
     "execution_count": 15,
     "metadata": {},
     "output_type": "execute_result"
    }
   ],
   "source": [
    "tup2 + tup1 "
   ]
  },
  {
   "cell_type": "code",
   "execution_count": 16,
   "id": "ee50c51a",
   "metadata": {},
   "outputs": [
    {
     "data": {
      "text/plain": [
       "(44, 55, 33, 44, 55, 33)"
      ]
     },
     "execution_count": 16,
     "metadata": {},
     "output_type": "execute_result"
    }
   ],
   "source": [
    "tup1*2"
   ]
  },
  {
   "cell_type": "code",
   "execution_count": 17,
   "id": "7393380a",
   "metadata": {},
   "outputs": [
    {
     "data": {
      "text/plain": [
       "(44, 55, 33, 44, 55, 33, 88, 99, 22)"
      ]
     },
     "execution_count": 17,
     "metadata": {},
     "output_type": "execute_result"
    }
   ],
   "source": [
    "tup1*2 + tup2"
   ]
  },
  {
   "cell_type": "code",
   "execution_count": 18,
   "id": "b86037a3",
   "metadata": {},
   "outputs": [
    {
     "data": {
      "text/plain": [
       "tuple"
      ]
     },
     "execution_count": 18,
     "metadata": {},
     "output_type": "execute_result"
    }
   ],
   "source": [
    "type(tup1)"
   ]
  },
  {
   "cell_type": "code",
   "execution_count": 19,
   "id": "87f63a2c",
   "metadata": {},
   "outputs": [
    {
     "data": {
      "text/plain": [
       "tuple"
      ]
     },
     "execution_count": 19,
     "metadata": {},
     "output_type": "execute_result"
    }
   ],
   "source": [
    "type(tup2)"
   ]
  },
  {
   "cell_type": "code",
   "execution_count": 20,
   "id": "802fad20",
   "metadata": {},
   "outputs": [
    {
     "data": {
      "text/plain": [
       "22"
      ]
     },
     "execution_count": 20,
     "metadata": {},
     "output_type": "execute_result"
    }
   ],
   "source": [
    "min(tup2)"
   ]
  },
  {
   "cell_type": "code",
   "execution_count": 21,
   "id": "db1d41c2",
   "metadata": {},
   "outputs": [
    {
     "data": {
      "text/plain": [
       "55"
      ]
     },
     "execution_count": 21,
     "metadata": {},
     "output_type": "execute_result"
    }
   ],
   "source": [
    "max(tup1)"
   ]
  },
  {
   "cell_type": "code",
   "execution_count": 22,
   "id": "268cd092",
   "metadata": {},
   "outputs": [
    {
     "data": {
      "text/plain": [
       "[1, 'f', True]"
      ]
     },
     "execution_count": 22,
     "metadata": {},
     "output_type": "execute_result"
    }
   ],
   "source": [
    "lis1 = [1,'f',True]\n",
    "lis1"
   ]
  },
  {
   "cell_type": "code",
   "execution_count": 23,
   "id": "61ce0fe7",
   "metadata": {},
   "outputs": [
    {
     "data": {
      "text/plain": [
       "list"
      ]
     },
     "execution_count": 23,
     "metadata": {},
     "output_type": "execute_result"
    }
   ],
   "source": [
    "type(lis1)"
   ]
  },
  {
   "cell_type": "code",
   "execution_count": 25,
   "id": "6a36eedb",
   "metadata": {},
   "outputs": [
    {
     "data": {
      "text/plain": [
       "1"
      ]
     },
     "execution_count": 25,
     "metadata": {},
     "output_type": "execute_result"
    }
   ],
   "source": [
    "lis1[0]"
   ]
  },
  {
   "cell_type": "code",
   "execution_count": 27,
   "id": "0ba2be0a",
   "metadata": {},
   "outputs": [
    {
     "data": {
      "text/plain": [
       "[1, 'f', True]"
      ]
     },
     "execution_count": 27,
     "metadata": {},
     "output_type": "execute_result"
    }
   ],
   "source": [
    "lis1[0:3]"
   ]
  },
  {
   "cell_type": "code",
   "execution_count": 30,
   "id": "244c3cd1",
   "metadata": {},
   "outputs": [
    {
     "data": {
      "text/plain": [
       "[100, 'f', True]"
      ]
     },
     "execution_count": 30,
     "metadata": {},
     "output_type": "execute_result"
    }
   ],
   "source": [
    "lis1[0] = 100\n",
    "lis1"
   ]
  },
  {
   "cell_type": "code",
   "execution_count": 31,
   "id": "748b32d1",
   "metadata": {},
   "outputs": [
    {
     "data": {
      "text/plain": [
       "[100, 'f', True, 'faizan']"
      ]
     },
     "execution_count": 31,
     "metadata": {},
     "output_type": "execute_result"
    }
   ],
   "source": [
    "lis1.append('faizan')\n",
    "lis1"
   ]
  },
  {
   "cell_type": "code",
   "execution_count": 34,
   "id": "aba32d61",
   "metadata": {},
   "outputs": [
    {
     "data": {
      "text/plain": [
       "[100, 'f']"
      ]
     },
     "execution_count": 34,
     "metadata": {},
     "output_type": "execute_result"
    }
   ],
   "source": [
    "lis1.pop()\n",
    "lis1"
   ]
  },
  {
   "cell_type": "code",
   "execution_count": 35,
   "id": "c2e63528",
   "metadata": {},
   "outputs": [
    {
     "data": {
      "text/plain": [
       "[100, 'f']"
      ]
     },
     "execution_count": 35,
     "metadata": {},
     "output_type": "execute_result"
    }
   ],
   "source": [
    "lis1"
   ]
  },
  {
   "cell_type": "code",
   "execution_count": 6,
   "id": "d99478bb",
   "metadata": {},
   "outputs": [
    {
     "data": {
      "text/plain": [
       "['a', 100, 'b', 22, 'c', 88, 'd', 10]"
      ]
     },
     "execution_count": 6,
     "metadata": {},
     "output_type": "execute_result"
    }
   ],
   "source": [
    "lis1 = ['a',100,'b',22,'c',88,'d',10]\n",
    "lis1"
   ]
  },
  {
   "cell_type": "code",
   "execution_count": 37,
   "id": "0409d646",
   "metadata": {},
   "outputs": [
    {
     "data": {
      "text/plain": [
       "[100, 'faizan', True]"
      ]
     },
     "execution_count": 37,
     "metadata": {},
     "output_type": "execute_result"
    }
   ],
   "source": [
    "lis1.pop()\n",
    "lis1"
   ]
  },
  {
   "cell_type": "code",
   "execution_count": 8,
   "id": "4fdfe0b9",
   "metadata": {},
   "outputs": [],
   "source": [
    "lis1.reverse()"
   ]
  },
  {
   "cell_type": "code",
   "execution_count": 9,
   "id": "37c87b5c",
   "metadata": {},
   "outputs": [
    {
     "data": {
      "text/plain": [
       "['a', 100, 'b', 22, 'c', 88, 'd', 10]"
      ]
     },
     "execution_count": 9,
     "metadata": {},
     "output_type": "execute_result"
    }
   ],
   "source": [
    "lis1"
   ]
  },
  {
   "cell_type": "code",
   "execution_count": 10,
   "id": "8d251cc2",
   "metadata": {},
   "outputs": [],
   "source": [
    "lis1.reverse()"
   ]
  },
  {
   "cell_type": "code",
   "execution_count": 11,
   "id": "8f254b74",
   "metadata": {},
   "outputs": [
    {
     "data": {
      "text/plain": [
       "['a', 10, 'b', 9, 'c', 8]"
      ]
     },
     "execution_count": 11,
     "metadata": {},
     "output_type": "execute_result"
    }
   ],
   "source": [
    "ll = ['a',10,'b',9,'c',8]\n",
    "ll"
   ]
  },
  {
   "cell_type": "code",
   "execution_count": 18,
   "id": "c4525d75",
   "metadata": {},
   "outputs": [
    {
     "data": {
      "text/plain": [
       "[100, 33, 66, True]"
      ]
     },
     "execution_count": 18,
     "metadata": {},
     "output_type": "execute_result"
    }
   ],
   "source": [
    "kk = [ 100,33,66,True]\n",
    "kk"
   ]
  },
  {
   "cell_type": "code",
   "execution_count": 19,
   "id": "8b1a25d2",
   "metadata": {},
   "outputs": [
    {
     "data": {
      "text/plain": [
       "list"
      ]
     },
     "execution_count": 19,
     "metadata": {},
     "output_type": "execute_result"
    }
   ],
   "source": [
    "type(kk)"
   ]
  },
  {
   "cell_type": "code",
   "execution_count": 20,
   "id": "e8a98fc2",
   "metadata": {},
   "outputs": [
    {
     "data": {
      "text/plain": [
       "[True, 66, 33, 100]"
      ]
     },
     "execution_count": 20,
     "metadata": {},
     "output_type": "execute_result"
    }
   ],
   "source": [
    "kk.reverse()\n",
    "kk"
   ]
  },
  {
   "cell_type": "code",
   "execution_count": 21,
   "id": "b19fa21c",
   "metadata": {},
   "outputs": [
    {
     "data": {
      "text/plain": [
       "[True, 'hh', 66, 33, 100]"
      ]
     },
     "execution_count": 21,
     "metadata": {},
     "output_type": "execute_result"
    }
   ],
   "source": [
    "kk.insert(1,\"hh\")\n",
    "kk"
   ]
  },
  {
   "cell_type": "code",
   "execution_count": 22,
   "id": "990b2fda",
   "metadata": {},
   "outputs": [
    {
     "data": {
      "text/plain": [
       "['zz', 'jj', 'aa']"
      ]
     },
     "execution_count": 22,
     "metadata": {},
     "output_type": "execute_result"
    }
   ],
   "source": [
    "kk = [\"zz\",\"jj\",\"aa\"]\n",
    "kk"
   ]
  },
  {
   "cell_type": "code",
   "execution_count": 25,
   "id": "02ac8409",
   "metadata": {},
   "outputs": [
    {
     "data": {
      "text/plain": [
       "['aa', 'jj', 'zz']"
      ]
     },
     "execution_count": 25,
     "metadata": {},
     "output_type": "execute_result"
    }
   ],
   "source": [
    "kk.sort()\n",
    "kk"
   ]
  },
  {
   "cell_type": "code",
   "execution_count": 26,
   "id": "13e02fde",
   "metadata": {},
   "outputs": [
    {
     "data": {
      "text/plain": [
       "['aa', 'jj', 'zz', 8, 'c', 9, 'b', 10, 'a']"
      ]
     },
     "execution_count": 26,
     "metadata": {},
     "output_type": "execute_result"
    }
   ],
   "source": [
    "kk + ll "
   ]
  },
  {
   "cell_type": "code",
   "execution_count": 27,
   "id": "c0c0efd2",
   "metadata": {},
   "outputs": [
    {
     "data": {
      "text/plain": [
       "['aa', 'jj', 'zz', 'aa', 'jj', 'zz']"
      ]
     },
     "execution_count": 27,
     "metadata": {},
     "output_type": "execute_result"
    }
   ],
   "source": [
    "kk*2"
   ]
  },
  {
   "cell_type": "code",
   "execution_count": 28,
   "id": "1dcdf218",
   "metadata": {},
   "outputs": [
    {
     "data": {
      "text/plain": [
       "{'apple': 500, 'mango': 50, 'banana': 20}"
      ]
     },
     "execution_count": 28,
     "metadata": {},
     "output_type": "execute_result"
    }
   ],
   "source": [
    "dd = {\"apple\":500,'mango':50,'banana':20}\n",
    "dd"
   ]
  },
  {
   "cell_type": "code",
   "execution_count": 29,
   "id": "fd00b131",
   "metadata": {},
   "outputs": [
    {
     "data": {
      "text/plain": [
       "dict"
      ]
     },
     "execution_count": 29,
     "metadata": {},
     "output_type": "execute_result"
    }
   ],
   "source": [
    "type(dd)"
   ]
  },
  {
   "cell_type": "code",
   "execution_count": 31,
   "id": "77e506fa",
   "metadata": {},
   "outputs": [
    {
     "data": {
      "text/plain": [
       "dict_keys(['apple', 'mango', 'banana'])"
      ]
     },
     "execution_count": 31,
     "metadata": {},
     "output_type": "execute_result"
    }
   ],
   "source": [
    "dd.keys()"
   ]
  },
  {
   "cell_type": "code",
   "execution_count": 32,
   "id": "45aa17fe",
   "metadata": {},
   "outputs": [
    {
     "data": {
      "text/plain": [
       "dict_values([500, 50, 20])"
      ]
     },
     "execution_count": 32,
     "metadata": {},
     "output_type": "execute_result"
    }
   ],
   "source": [
    "dd.values()"
   ]
  },
  {
   "cell_type": "code",
   "execution_count": 33,
   "id": "ba77908c",
   "metadata": {},
   "outputs": [],
   "source": [
    "dd['gavava']=14"
   ]
  },
  {
   "cell_type": "code",
   "execution_count": 34,
   "id": "747b8101",
   "metadata": {},
   "outputs": [
    {
     "data": {
      "text/plain": [
       "{'apple': 500, 'mango': 50, 'banana': 20, 'gavava': 14}"
      ]
     },
     "execution_count": 34,
     "metadata": {},
     "output_type": "execute_result"
    }
   ],
   "source": [
    "dd"
   ]
  },
  {
   "cell_type": "code",
   "execution_count": 35,
   "id": "966bf8dd",
   "metadata": {},
   "outputs": [
    {
     "data": {
      "text/plain": [
       "{'apple': 50, 'mango': 50, 'banana': 20, 'gavava': 14}"
      ]
     },
     "execution_count": 35,
     "metadata": {},
     "output_type": "execute_result"
    }
   ],
   "source": [
    "dd['apple']=50\n",
    "dd"
   ]
  },
  {
   "cell_type": "code",
   "execution_count": 36,
   "id": "35cde14e",
   "metadata": {},
   "outputs": [
    {
     "data": {
      "text/plain": [
       "{'orange': 14, 'water': 50}"
      ]
     },
     "execution_count": 36,
     "metadata": {},
     "output_type": "execute_result"
    }
   ],
   "source": [
    "fru2 ={'orange':14,'water':50}\n",
    "fru2"
   ]
  },
  {
   "cell_type": "code",
   "execution_count": 37,
   "id": "306acbd4",
   "metadata": {},
   "outputs": [
    {
     "data": {
      "text/plain": [
       "{'apple': 50,\n",
       " 'mango': 50,\n",
       " 'banana': 20,\n",
       " 'gavava': 14,\n",
       " 'orange': 14,\n",
       " 'water': 50}"
      ]
     },
     "execution_count": 37,
     "metadata": {},
     "output_type": "execute_result"
    }
   ],
   "source": [
    "dd.update(fru2)\n",
    "dd"
   ]
  },
  {
   "cell_type": "code",
   "execution_count": 38,
   "id": "1408c61e",
   "metadata": {},
   "outputs": [
    {
     "data": {
      "text/plain": [
       "{'apple': 50,\n",
       " 'mango': 50,\n",
       " 'banana': 20,\n",
       " 'gavava': 14,\n",
       " 'orange': 14,\n",
       " 'water': 50}"
      ]
     },
     "execution_count": 38,
     "metadata": {},
     "output_type": "execute_result"
    }
   ],
   "source": [
    "dd"
   ]
  },
  {
   "cell_type": "code",
   "execution_count": 39,
   "id": "d20719a6",
   "metadata": {},
   "outputs": [
    {
     "data": {
      "text/plain": [
       "50"
      ]
     },
     "execution_count": 39,
     "metadata": {},
     "output_type": "execute_result"
    }
   ],
   "source": [
    "dd.pop('water')"
   ]
  },
  {
   "cell_type": "code",
   "execution_count": 40,
   "id": "c5e552f3",
   "metadata": {},
   "outputs": [
    {
     "data": {
      "text/plain": [
       "{'apple': 50, 'mango': 50, 'banana': 20, 'gavava': 14, 'orange': 14}"
      ]
     },
     "execution_count": 40,
     "metadata": {},
     "output_type": "execute_result"
    }
   ],
   "source": [
    "dd"
   ]
  },
  {
   "cell_type": "code",
   "execution_count": 41,
   "id": "5e085a85",
   "metadata": {},
   "outputs": [
    {
     "data": {
      "text/plain": [
       "{100, False, 'ff'}"
      ]
     },
     "execution_count": 41,
     "metadata": {},
     "output_type": "execute_result"
    }
   ],
   "source": [
    "ss = {100,'ff',False}\n",
    "ss\n"
   ]
  },
  {
   "cell_type": "code",
   "execution_count": null,
   "id": "f7632c28",
   "metadata": {},
   "outputs": [],
   "source": []
  },
  {
   "cell_type": "code",
   "execution_count": 44,
   "id": "2a8a5c19",
   "metadata": {},
   "outputs": [
    {
     "data": {
      "text/plain": [
       "{100, False, 'ff'}"
      ]
     },
     "execution_count": 44,
     "metadata": {},
     "output_type": "execute_result"
    }
   ],
   "source": [
    "ss = {100,'ff',False,'ff',100}\n",
    "ss\n"
   ]
  },
  {
   "cell_type": "code",
   "execution_count": 45,
   "id": "2a40c10c",
   "metadata": {},
   "outputs": [],
   "source": [
    "ss.add('faizan')"
   ]
  },
  {
   "cell_type": "code",
   "execution_count": 46,
   "id": "8669669d",
   "metadata": {},
   "outputs": [
    {
     "data": {
      "text/plain": [
       "{100, False, 'faizan', 'ff'}"
      ]
     },
     "execution_count": 46,
     "metadata": {},
     "output_type": "execute_result"
    }
   ],
   "source": [
    "ss"
   ]
  },
  {
   "cell_type": "code",
   "execution_count": 49,
   "id": "936bae0f",
   "metadata": {},
   "outputs": [
    {
     "data": {
      "text/plain": [
       "{100, 50, False, 'faizan', 'ff'}"
      ]
     },
     "execution_count": 49,
     "metadata": {},
     "output_type": "execute_result"
    }
   ],
   "source": [
    "ss.update([50])\n",
    "ss"
   ]
  },
  {
   "cell_type": "code",
   "execution_count": 10,
   "id": "c8865a80",
   "metadata": {},
   "outputs": [
    {
     "ename": "NameError",
     "evalue": "name 'ss' is not defined",
     "output_type": "error",
     "traceback": [
      "\u001b[1;31m---------------------------------------------------------------------------\u001b[0m",
      "\u001b[1;31mNameError\u001b[0m                                 Traceback (most recent call last)",
      "\u001b[1;32m~\\AppData\\Local\\Temp\\ipykernel_57340\\32857814.py\u001b[0m in \u001b[0;36m<module>\u001b[1;34m\u001b[0m\n\u001b[1;32m----> 1\u001b[1;33m \u001b[0mss\u001b[0m\u001b[1;33m.\u001b[0m\u001b[0mremove\u001b[0m\u001b[1;33m(\u001b[0m\u001b[1;34m'ff'\u001b[0m\u001b[1;33m)\u001b[0m\u001b[1;33m\u001b[0m\u001b[1;33m\u001b[0m\u001b[0m\n\u001b[0m\u001b[0;32m      2\u001b[0m \u001b[0mss\u001b[0m\u001b[1;33m\u001b[0m\u001b[1;33m\u001b[0m\u001b[0m\n",
      "\u001b[1;31mNameError\u001b[0m: name 'ss' is not defined"
     ]
    }
   ],
   "source": [
    "ss.remove('ff')\n",
    "ss"
   ]
  },
  {
   "cell_type": "code",
   "execution_count": 1,
   "id": "8b03f15f",
   "metadata": {},
   "outputs": [
    {
     "data": {
      "text/plain": [
       "{10, True, 'kkk'}"
      ]
     },
     "execution_count": 1,
     "metadata": {},
     "output_type": "execute_result"
    }
   ],
   "source": [
    "ss2 = {10,'kkk',True}\n",
    "ss2"
   ]
  },
  {
   "cell_type": "code",
   "execution_count": 2,
   "id": "92bfcac3",
   "metadata": {},
   "outputs": [
    {
     "data": {
      "text/plain": [
       "{10, 45, True, 'kkk'}"
      ]
     },
     "execution_count": 2,
     "metadata": {},
     "output_type": "execute_result"
    }
   ],
   "source": [
    "ss2.add(45)\n",
    "ss2"
   ]
  },
  {
   "cell_type": "code",
   "execution_count": 4,
   "id": "b1dbe7e0",
   "metadata": {},
   "outputs": [],
   "source": [
    "ss2.update([99,10.2])"
   ]
  },
  {
   "cell_type": "code",
   "execution_count": 5,
   "id": "1f159a4e",
   "metadata": {},
   "outputs": [
    {
     "data": {
      "text/plain": [
       "{10, 10.2, 45, 99, True, 'kkk'}"
      ]
     },
     "execution_count": 5,
     "metadata": {},
     "output_type": "execute_result"
    }
   ],
   "source": [
    "ss2"
   ]
  },
  {
   "cell_type": "code",
   "execution_count": 9,
   "id": "682387b0",
   "metadata": {},
   "outputs": [
    {
     "data": {
      "text/plain": [
       "set"
      ]
     },
     "execution_count": 9,
     "metadata": {},
     "output_type": "execute_result"
    }
   ],
   "source": [
    "type(ss2)"
   ]
  },
  {
   "cell_type": "code",
   "execution_count": 11,
   "id": "a3ed3ff4",
   "metadata": {},
   "outputs": [
    {
     "data": {
      "text/plain": [
       "{92, False, 'faiz'}"
      ]
     },
     "execution_count": 11,
     "metadata": {},
     "output_type": "execute_result"
    }
   ],
   "source": [
    "ss1 = {False,'faiz',92}\n",
    "ss1"
   ]
  },
  {
   "cell_type": "code",
   "execution_count": 12,
   "id": "e8306d78",
   "metadata": {},
   "outputs": [
    {
     "data": {
      "text/plain": [
       "{10, 10.2, 45, 92, 99, False, True, 'faiz', 'kkk'}"
      ]
     },
     "execution_count": 12,
     "metadata": {},
     "output_type": "execute_result"
    }
   ],
   "source": [
    "ss2.union(ss1)"
   ]
  },
  {
   "cell_type": "code",
   "execution_count": 14,
   "id": "584c8143",
   "metadata": {},
   "outputs": [
    {
     "data": {
      "text/plain": [
       "({10, 22, 92}, {10, 55, 94})"
      ]
     },
     "execution_count": 14,
     "metadata": {},
     "output_type": "execute_result"
    }
   ],
   "source": [
    "ss1 = {10,22,92}\n",
    "ss2 = {10,55,94}\n",
    "ss1,ss2"
   ]
  },
  {
   "cell_type": "code",
   "execution_count": 15,
   "id": "4c68a8ee",
   "metadata": {},
   "outputs": [
    {
     "data": {
      "text/plain": [
       "{10}"
      ]
     },
     "execution_count": 15,
     "metadata": {},
     "output_type": "execute_result"
    }
   ],
   "source": [
    "ss1.intersection(ss2)"
   ]
  },
  {
   "cell_type": "code",
   "execution_count": null,
   "id": "63f2e3d9",
   "metadata": {},
   "outputs": [],
   "source": []
  }
 ],
 "metadata": {
  "kernelspec": {
   "display_name": "Python 3 (ipykernel)",
   "language": "python",
   "name": "python3"
  },
  "language_info": {
   "codemirror_mode": {
    "name": "ipython",
    "version": 3
   },
   "file_extension": ".py",
   "mimetype": "text/x-python",
   "name": "python",
   "nbconvert_exporter": "python",
   "pygments_lexer": "ipython3",
   "version": "3.9.13"
  }
 },
 "nbformat": 4,
 "nbformat_minor": 5
}
