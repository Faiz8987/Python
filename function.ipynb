{
 "cells": [
  {
   "cell_type": "code",
   "execution_count": 1,
   "id": "276c6d8f",
   "metadata": {},
   "outputs": [],
   "source": [
    "def hello():\n",
    "    print(\"hello world\")"
   ]
  },
  {
   "cell_type": "code",
   "execution_count": 2,
   "id": "c9829aa9",
   "metadata": {},
   "outputs": [
    {
     "name": "stdout",
     "output_type": "stream",
     "text": [
      "hello world\n"
     ]
    }
   ],
   "source": [
    "hello()"
   ]
  },
  {
   "cell_type": "code",
   "execution_count": 7,
   "id": "3414b64c",
   "metadata": {},
   "outputs": [],
   "source": [
    "def money(j):\n",
    "    return j +70"
   ]
  },
  {
   "cell_type": "code",
   "execution_count": 8,
   "id": "47535741",
   "metadata": {},
   "outputs": [
    {
     "data": {
      "text/plain": [
       "100"
      ]
     },
     "execution_count": 8,
     "metadata": {},
     "output_type": "execute_result"
    }
   ],
   "source": [
    "money(30)"
   ]
  },
  {
   "cell_type": "code",
   "execution_count": 9,
   "id": "8756cb19",
   "metadata": {},
   "outputs": [],
   "source": [
    "def faizan(k):\n",
    "    return k * 2"
   ]
  },
  {
   "cell_type": "code",
   "execution_count": 10,
   "id": "073c75b4",
   "metadata": {},
   "outputs": [
    {
     "data": {
      "text/plain": [
       "24"
      ]
     },
     "execution_count": 10,
     "metadata": {},
     "output_type": "execute_result"
    }
   ],
   "source": [
    "faizan(12)"
   ]
  },
  {
   "cell_type": "code",
   "execution_count": 11,
   "id": "6c573c0c",
   "metadata": {},
   "outputs": [],
   "source": [
    "def faizan(k):\n",
    "    return k / 2"
   ]
  },
  {
   "cell_type": "code",
   "execution_count": 12,
   "id": "e26b76c8",
   "metadata": {},
   "outputs": [
    {
     "data": {
      "text/plain": [
       "25.0"
      ]
     },
     "execution_count": 12,
     "metadata": {},
     "output_type": "execute_result"
    }
   ],
   "source": [
    "faizan(50)"
   ]
  },
  {
   "cell_type": "code",
   "execution_count": 13,
   "id": "78399578",
   "metadata": {},
   "outputs": [],
   "source": [
    "def faizan(k):\n",
    "    return k - 'zan'"
   ]
  },
  {
   "cell_type": "code",
   "execution_count": 22,
   "id": "41524f97",
   "metadata": {},
   "outputs": [],
   "source": [
    "def value(r):\n",
    "    if r%2==0:\n",
    "        print(r,'even')\n",
    "    else:\n",
    "        print(r,'odd')"
   ]
  },
  {
   "cell_type": "code",
   "execution_count": 23,
   "id": "5a256b90",
   "metadata": {},
   "outputs": [
    {
     "name": "stdout",
     "output_type": "stream",
     "text": [
      "50 even\n"
     ]
    }
   ],
   "source": [
    "value(50)"
   ]
  },
  {
   "cell_type": "code",
   "execution_count": 24,
   "id": "fecac9ff",
   "metadata": {},
   "outputs": [
    {
     "name": "stdout",
     "output_type": "stream",
     "text": [
      "13 odd\n"
     ]
    }
   ],
   "source": [
    "value(13)"
   ]
  },
  {
   "cell_type": "code",
   "execution_count": 25,
   "id": "cf408663",
   "metadata": {},
   "outputs": [],
   "source": [
    "g=lambda c:c+c+c"
   ]
  },
  {
   "cell_type": "code",
   "execution_count": 26,
   "id": "d03def26",
   "metadata": {},
   "outputs": [
    {
     "data": {
      "text/plain": [
       "6"
      ]
     },
     "execution_count": 26,
     "metadata": {},
     "output_type": "execute_result"
    }
   ],
   "source": [
    "g(2)"
   ]
  },
  {
   "cell_type": "code",
   "execution_count": 1,
   "id": "aae815d8",
   "metadata": {},
   "outputs": [
    {
     "data": {
      "text/plain": [
       "[1, 4, 50, 63, 79, 85]"
      ]
     },
     "execution_count": 1,
     "metadata": {},
     "output_type": "execute_result"
    }
   ],
   "source": [
    "ll = [1,4,50,63,79,85]\n",
    "ll"
   ]
  },
  {
   "cell_type": "code",
   "execution_count": 2,
   "id": "1c04d117",
   "metadata": {},
   "outputs": [],
   "source": [
    "kk=list(filter(lambda w: (w%2!=0),ll))"
   ]
  },
  {
   "cell_type": "code",
   "execution_count": 11,
   "id": "272c3935",
   "metadata": {},
   "outputs": [],
   "source": [
    "#lambda witth filter"
   ]
  },
  {
   "cell_type": "code",
   "execution_count": 3,
   "id": "66fa9f98",
   "metadata": {},
   "outputs": [
    {
     "data": {
      "text/plain": [
       "[1, 63, 79, 85]"
      ]
     },
     "execution_count": 3,
     "metadata": {},
     "output_type": "execute_result"
    }
   ],
   "source": [
    "kk"
   ]
  },
  {
   "cell_type": "code",
   "execution_count": 7,
   "id": "9dcc9960",
   "metadata": {},
   "outputs": [
    {
     "ename": "SyntaxError",
     "evalue": "unexpected EOF while parsing (738867071.py, line 2)",
     "output_type": "error",
     "traceback": [
      "\u001b[1;36m  File \u001b[1;32m\"C:\\Users\\lenovo\\AppData\\Local\\Temp\\ipykernel_98580\\738867071.py\"\u001b[1;36m, line \u001b[1;32m2\u001b[0m\n\u001b[1;33m    oo=list(filter(lambda t:(w%2==0,ll))\u001b[0m\n\u001b[1;37m                                        ^\u001b[0m\n\u001b[1;31mSyntaxError\u001b[0m\u001b[1;31m:\u001b[0m unexpected EOF while parsing\n"
     ]
    }
   ],
   "source": [
    "kk=list(filter(lambda w: (w%2!=0),ll))\n",
    "oo=list(filter(lambda t:(w%2==0,ll))"
   ]
  },
  {
   "cell_type": "code",
   "execution_count": 9,
   "id": "48269584",
   "metadata": {},
   "outputs": [],
   "source": [
    "pp=list(filter(lambda w: (w%2==0),ll))"
   ]
  },
  {
   "cell_type": "code",
   "execution_count": 10,
   "id": "93f35531",
   "metadata": {},
   "outputs": [
    {
     "data": {
      "text/plain": [
       "[4, 50]"
      ]
     },
     "execution_count": 10,
     "metadata": {},
     "output_type": "execute_result"
    }
   ],
   "source": [
    "pp\n"
   ]
  },
  {
   "cell_type": "code",
   "execution_count": null,
   "id": "4b010ae4",
   "metadata": {},
   "outputs": [],
   "source": [
    "#lambdawith map"
   ]
  },
  {
   "cell_type": "code",
   "execution_count": 12,
   "id": "c6c11a70",
   "metadata": {},
   "outputs": [],
   "source": [
    "ll = [1,2,3,4,5]"
   ]
  },
  {
   "cell_type": "code",
   "execution_count": 13,
   "id": "0f630345",
   "metadata": {},
   "outputs": [
    {
     "data": {
      "text/plain": [
       "[1, 2, 3, 4, 5]"
      ]
     },
     "execution_count": 13,
     "metadata": {},
     "output_type": "execute_result"
    }
   ],
   "source": [
    "ll"
   ]
  },
  {
   "cell_type": "code",
   "execution_count": 14,
   "id": "31539e20",
   "metadata": {},
   "outputs": [],
   "source": [
    "ff=list(map(lambda l: l*2,ll))"
   ]
  },
  {
   "cell_type": "code",
   "execution_count": 15,
   "id": "bcadbd97",
   "metadata": {},
   "outputs": [
    {
     "data": {
      "text/plain": [
       "[2, 4, 6, 8, 10]"
      ]
     },
     "execution_count": 15,
     "metadata": {},
     "output_type": "execute_result"
    }
   ],
   "source": [
    "ff"
   ]
  },
  {
   "cell_type": "code",
   "execution_count": 16,
   "id": "25d594e3",
   "metadata": {},
   "outputs": [],
   "source": [
    "from functools import reduce"
   ]
  },
  {
   "cell_type": "code",
   "execution_count": 18,
   "id": "f2c5fdea",
   "metadata": {},
   "outputs": [],
   "source": [
    "ww=reduce(lambda l,p:l+p,ff)"
   ]
  },
  {
   "cell_type": "code",
   "execution_count": 19,
   "id": "470fe969",
   "metadata": {},
   "outputs": [
    {
     "data": {
      "text/plain": [
       "30"
      ]
     },
     "execution_count": 19,
     "metadata": {},
     "output_type": "execute_result"
    }
   ],
   "source": [
    "ww"
   ]
  },
  {
   "cell_type": "code",
   "execution_count": null,
   "id": "2ad8be02",
   "metadata": {},
   "outputs": [],
   "source": []
  }
 ],
 "metadata": {
  "kernelspec": {
   "display_name": "Python 3 (ipykernel)",
   "language": "python",
   "name": "python3"
  },
  "language_info": {
   "codemirror_mode": {
    "name": "ipython",
    "version": 3
   },
   "file_extension": ".py",
   "mimetype": "text/x-python",
   "name": "python",
   "nbconvert_exporter": "python",
   "pygments_lexer": "ipython3",
   "version": "3.9.13"
  }
 },
 "nbformat": 4,
 "nbformat_minor": 5
}
