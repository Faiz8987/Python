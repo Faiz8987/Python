{
 "cells": [
  {
   "cell_type": "code",
   "execution_count": 3,
   "id": "a487c739",
   "metadata": {},
   "outputs": [],
   "source": [
    "def name():\n",
    "    print('faizan ali')"
   ]
  },
  {
   "cell_type": "code",
   "execution_count": 4,
   "id": "607c1f02",
   "metadata": {},
   "outputs": [
    {
     "name": "stdout",
     "output_type": "stream",
     "text": [
      "faizan ali\n"
     ]
    }
   ],
   "source": [
    "name()"
   ]
  },
  {
   "cell_type": "code",
   "execution_count": 16,
   "id": "1d76ab1e",
   "metadata": {},
   "outputs": [],
   "source": [
    "def hello(p):\n",
    "    for i in range (0,10):\n",
    "        print('hello')\n",
    "    "
   ]
  },
  {
   "cell_type": "code",
   "execution_count": 17,
   "id": "37604a5d",
   "metadata": {},
   "outputs": [
    {
     "name": "stdout",
     "output_type": "stream",
     "text": [
      "hello\n",
      "hello\n",
      "hello\n",
      "hello\n",
      "hello\n",
      "hello\n",
      "hello\n",
      "hello\n",
      "hello\n",
      "hello\n"
     ]
    }
   ],
   "source": [
    "hello('hello')"
   ]
  },
  {
   "cell_type": "code",
   "execution_count": 18,
   "id": "f4e4b8aa",
   "metadata": {},
   "outputs": [],
   "source": [
    "def add(o,l):\n",
    "    return o+l"
   ]
  },
  {
   "cell_type": "code",
   "execution_count": 20,
   "id": "6c3ff89c",
   "metadata": {},
   "outputs": [
    {
     "data": {
      "text/plain": [
       "13484"
      ]
     },
     "execution_count": 20,
     "metadata": {},
     "output_type": "execute_result"
    }
   ],
   "source": [
    "add(8963,4521)"
   ]
  },
  {
   "cell_type": "code",
   "execution_count": 22,
   "id": "16c70462",
   "metadata": {},
   "outputs": [],
   "source": [
    "def cheq(o):\n",
    "    if o%2==0:\n",
    "        print(o,'is a even number')\n",
    "    else:\n",
    "        print(o, 'is a odd number')"
   ]
  },
  {
   "cell_type": "code",
   "execution_count": 24,
   "id": "ac767f46",
   "metadata": {},
   "outputs": [
    {
     "name": "stdout",
     "output_type": "stream",
     "text": [
      "88 is a even number\n"
     ]
    }
   ],
   "source": [
    "cheq(88)"
   ]
  },
  {
   "cell_type": "code",
   "execution_count": 61,
   "id": "b1a4aa70",
   "metadata": {},
   "outputs": [],
   "source": [
    "def greetings(p):\n",
    "    p=input(\"enter your name --\")\n",
    "    q=input(\"choose your gender --\")\n",
    "    if q=='male':\n",
    "        print ('hello and welcome mister :',p)\n",
    "    else:\n",
    "        print(\"hello and welcome miss :\",p)"
   ]
  },
  {
   "cell_type": "code",
   "execution_count": 64,
   "id": "b0626b41",
   "metadata": {},
   "outputs": [
    {
     "name": "stdout",
     "output_type": "stream",
     "text": [
      "enter your name --faizan raza\n",
      "choose your gender --male\n",
      "hello and welcome mister : faizan raza\n"
     ]
    }
   ],
   "source": [
    "greetings(1)"
   ]
  },
  {
   "cell_type": "code",
   "execution_count": 56,
   "id": "7bf33550",
   "metadata": {},
   "outputs": [],
   "source": [
    "def eligeblity(p):\n",
    "    p=input(\"enter your name-- \")\n",
    "    q=int(input(\"enter your age -- \"))\n",
    "    w=input(\"enter your nation name-- \")\n",
    "    w=w.upper()\n",
    "    if (q>=18)&(w==\"INDIA\"):\n",
    "        \n",
    "        print(\"you are eligible \",p)\n",
    "    else:\n",
    "        print(\"you are not eligible \",p)"
   ]
  },
  {
   "cell_type": "code",
   "execution_count": 60,
   "id": "631a7000",
   "metadata": {},
   "outputs": [
    {
     "name": "stdout",
     "output_type": "stream",
     "text": [
      "enter your name-- gajala\n",
      "enter your age -- 18\n",
      "enter your nation name-- india\n",
      "you are eligible  gajala\n"
     ]
    }
   ],
   "source": [
    "eligeblity(1)"
   ]
  },
  {
   "cell_type": "code",
   "execution_count": null,
   "id": "dbce2263",
   "metadata": {},
   "outputs": [],
   "source": [
    "# functons od even and odd numbers"
   ]
  },
  {
   "cell_type": "code",
   "execution_count": 1,
   "id": "7a09ca2c",
   "metadata": {},
   "outputs": [],
   "source": [
    "def eventen():\n",
    "    for i in range (2,22,2):\n",
    "        print(i)"
   ]
  },
  {
   "cell_type": "code",
   "execution_count": 2,
   "id": "b397a307",
   "metadata": {},
   "outputs": [
    {
     "name": "stdout",
     "output_type": "stream",
     "text": [
      "2\n",
      "4\n",
      "6\n",
      "8\n",
      "10\n",
      "12\n",
      "14\n",
      "16\n",
      "18\n",
      "20\n"
     ]
    }
   ],
   "source": [
    "eventen()"
   ]
  },
  {
   "cell_type": "code",
   "execution_count": 3,
   "id": "b7351d2d",
   "metadata": {},
   "outputs": [],
   "source": [
    "def tenodd():\n",
    "    for i in range (1,23,2):\n",
    "        print(i)"
   ]
  },
  {
   "cell_type": "code",
   "execution_count": 4,
   "id": "9ce7d06f",
   "metadata": {},
   "outputs": [
    {
     "name": "stdout",
     "output_type": "stream",
     "text": [
      "1\n",
      "3\n",
      "5\n",
      "7\n",
      "9\n",
      "11\n",
      "13\n",
      "15\n",
      "17\n",
      "19\n",
      "21\n"
     ]
    }
   ],
   "source": [
    "tenodd()"
   ]
  },
  {
   "cell_type": "code",
   "execution_count": 7,
   "id": "ef0b1358",
   "metadata": {},
   "outputs": [],
   "source": [
    "def ev(p):\n",
    "    for i in range (2,p+2):\n",
    "        print(i*2)"
   ]
  },
  {
   "cell_type": "code",
   "execution_count": 8,
   "id": "dee15cd3",
   "metadata": {},
   "outputs": [
    {
     "name": "stdout",
     "output_type": "stream",
     "text": [
      "4\n",
      "6\n",
      "8\n",
      "10\n",
      "12\n",
      "14\n",
      "16\n",
      "18\n",
      "20\n",
      "22\n"
     ]
    }
   ],
   "source": [
    "ev(10)"
   ]
  },
  {
   "cell_type": "code",
   "execution_count": 20,
   "id": "230119ef",
   "metadata": {},
   "outputs": [],
   "source": [
    "def op(l):\n",
    "    k=1\n",
    "    for i in range(1,l+1):\n",
    "        if i%2!=0:\n",
    "            print(i)"
   ]
  },
  {
   "cell_type": "code",
   "execution_count": 21,
   "id": "43db44b6",
   "metadata": {},
   "outputs": [
    {
     "name": "stdout",
     "output_type": "stream",
     "text": [
      "1\n",
      "3\n",
      "5\n",
      "7\n",
      "9\n"
     ]
    }
   ],
   "source": [
    "op(10)"
   ]
  },
  {
   "cell_type": "code",
   "execution_count": 7,
   "id": "88d98270",
   "metadata": {},
   "outputs": [],
   "source": [
    "#add numbers"
   ]
  },
  {
   "cell_type": "code",
   "execution_count": 5,
   "id": "133d59d2",
   "metadata": {},
   "outputs": [],
   "source": [
    "def addofnum(p):\n",
    "    return p*(p+1)/2"
   ]
  },
  {
   "cell_type": "code",
   "execution_count": 6,
   "id": "db55f57f",
   "metadata": {},
   "outputs": [
    {
     "data": {
      "text/plain": [
       "15.0"
      ]
     },
     "execution_count": 6,
     "metadata": {},
     "output_type": "execute_result"
    }
   ],
   "source": [
    "addofnum(5)"
   ]
  },
  {
   "cell_type": "code",
   "execution_count": 1,
   "id": "1365cd10",
   "metadata": {},
   "outputs": [],
   "source": [
    "#calcius  to fernhite"
   ]
  },
  {
   "cell_type": "code",
   "execution_count": 2,
   "id": "c18d18b6",
   "metadata": {},
   "outputs": [],
   "source": [
    "def fernhite(p):\n",
    "    return p*9/5+32"
   ]
  },
  {
   "cell_type": "code",
   "execution_count": 3,
   "id": "2e7a3f5b",
   "metadata": {},
   "outputs": [
    {
     "data": {
      "text/plain": [
       "86.0"
      ]
     },
     "execution_count": 3,
     "metadata": {},
     "output_type": "execute_result"
    }
   ],
   "source": [
    "fernhite(30)"
   ]
  },
  {
   "cell_type": "code",
   "execution_count": 4,
   "id": "12056dba",
   "metadata": {},
   "outputs": [],
   "source": [
    "#vowels"
   ]
  },
  {
   "cell_type": "code",
   "execution_count": 66,
   "id": "a8fdc79f",
   "metadata": {},
   "outputs": [],
   "source": [
    "def vov(p):\n",
    "    a=(p)\n",
    "    xx='aeiou'\n",
    "    p=p.lower()\n",
    "    for i in p:\n",
    "        if i in xx:\n",
    "            a=a+\"--\"+i\n",
    "    return a"
   ]
  },
  {
   "cell_type": "code",
   "execution_count": 69,
   "id": "e96a946e",
   "metadata": {},
   "outputs": [
    {
     "data": {
      "text/plain": [
       "'faizan--a--i--a'"
      ]
     },
     "execution_count": 69,
     "metadata": {},
     "output_type": "execute_result"
    }
   ],
   "source": [
    "vov('faizan')"
   ]
  },
  {
   "cell_type": "code",
   "execution_count": 8,
   "id": "54118581",
   "metadata": {},
   "outputs": [],
   "source": [
    "def vco(p):\n",
    "    q=0\n",
    "    xx='aeiou'\n",
    "    xx=xx.lower()\n",
    "    for i in p:\n",
    "        if i in xx:\n",
    "            q=q+1\n",
    "    return q"
   ]
  },
  {
   "cell_type": "code",
   "execution_count": 11,
   "id": "cab8f9e4",
   "metadata": {},
   "outputs": [
    {
     "data": {
      "text/plain": [
       "3"
      ]
     },
     "execution_count": 11,
     "metadata": {},
     "output_type": "execute_result"
    }
   ],
   "source": [
    "vco('faizan')"
   ]
  },
  {
   "cell_type": "code",
   "execution_count": 12,
   "id": "c828d56e",
   "metadata": {},
   "outputs": [],
   "source": [
    "#doller"
   ]
  },
  {
   "cell_type": "code",
   "execution_count": 71,
   "id": "8acd168a",
   "metadata": {},
   "outputs": [],
   "source": [
    "def doller(p):\n",
    "    return (p*84.62)"
   ]
  },
  {
   "cell_type": "code",
   "execution_count": 72,
   "id": "ee07fa91",
   "metadata": {},
   "outputs": [
    {
     "data": {
      "text/plain": [
       "84620.0"
      ]
     },
     "execution_count": 72,
     "metadata": {},
     "output_type": "execute_result"
    }
   ],
   "source": [
    "doller(1000)"
   ]
  },
  {
   "cell_type": "code",
   "execution_count": 15,
   "id": "6d51da51",
   "metadata": {},
   "outputs": [],
   "source": [
    "#pkr to inr"
   ]
  },
  {
   "cell_type": "code",
   "execution_count": 73,
   "id": "83c4f357",
   "metadata": {},
   "outputs": [],
   "source": [
    "def pkr(p):\n",
    "    return (p/3.69)"
   ]
  },
  {
   "cell_type": "code",
   "execution_count": 74,
   "id": "1a36978b",
   "metadata": {},
   "outputs": [
    {
     "data": {
      "text/plain": [
       "94850948.5094851"
      ]
     },
     "execution_count": 74,
     "metadata": {},
     "output_type": "execute_result"
    }
   ],
   "source": [
    "pkr(350000000)"
   ]
  },
  {
   "cell_type": "code",
   "execution_count": 20,
   "id": "7cecd2d1",
   "metadata": {},
   "outputs": [],
   "source": [
    "#palindrom"
   ]
  },
  {
   "cell_type": "code",
   "execution_count": 21,
   "id": "c6135388",
   "metadata": {},
   "outputs": [],
   "source": [
    "def palindrom(p):\n",
    "    p=p.lower()\n",
    "    if p==p[::-1]:\n",
    "        print('yes ',p ,\"is a palindrom\")\n",
    "    else:\n",
    "        print('no ',p,\"is not a palindrom\")"
   ]
  },
  {
   "cell_type": "code",
   "execution_count": 23,
   "id": "8a3b213b",
   "metadata": {},
   "outputs": [
    {
     "name": "stdout",
     "output_type": "stream",
     "text": [
      "yes  mam is a palindrom\n"
     ]
    }
   ],
   "source": [
    "palindrom('mAm')"
   ]
  },
  {
   "cell_type": "code",
   "execution_count": 40,
   "id": "b228ba9c",
   "metadata": {},
   "outputs": [],
   "source": [
    "#sperate nmbers and sum of even and odd"
   ]
  },
  {
   "cell_type": "code",
   "execution_count": 30,
   "id": "51095ba4",
   "metadata": {},
   "outputs": [],
   "source": [
    "def sperate(p):\n",
    "    ev=0\n",
    "    od=0\n",
    "    for i in p:\n",
    "        if i%2==0:\n",
    "            ev=ev+i\n",
    "        else:\n",
    "            od=od+i\n",
    "    print(ev,od)"
   ]
  },
  {
   "cell_type": "code",
   "execution_count": 31,
   "id": "e0966cde",
   "metadata": {},
   "outputs": [
    {
     "name": "stdout",
     "output_type": "stream",
     "text": [
      "20 25\n"
     ]
    }
   ],
   "source": [
    "sperate([1,2,3,4,5,6,7,8,9])"
   ]
  },
  {
   "cell_type": "code",
   "execution_count": 39,
   "id": "73042c30",
   "metadata": {},
   "outputs": [],
   "source": [
    "#factorial"
   ]
  },
  {
   "cell_type": "code",
   "execution_count": 37,
   "id": "cac3e4cb",
   "metadata": {},
   "outputs": [],
   "source": [
    "def factorail(p):\n",
    "    if p<2:\n",
    "        return 1\n",
    "    else:\n",
    "        return p*factorail (p-1)"
   ]
  },
  {
   "cell_type": "code",
   "execution_count": 41,
   "id": "bf08142b",
   "metadata": {},
   "outputs": [
    {
     "data": {
      "text/plain": [
       "120"
      ]
     },
     "execution_count": 41,
     "metadata": {},
     "output_type": "execute_result"
    }
   ],
   "source": [
    "factorail(5)"
   ]
  },
  {
   "cell_type": "code",
   "execution_count": 55,
   "id": "7b39ba8d",
   "metadata": {},
   "outputs": [],
   "source": [
    "#fiboonachi number"
   ]
  },
  {
   "cell_type": "code",
   "execution_count": 42,
   "id": "ec9f9f68",
   "metadata": {},
   "outputs": [],
   "source": [
    "def fibonnachi(p):\n",
    "    current=0\n",
    "    after=1\n",
    "    for i in range (1,p+1):\n",
    "        current,after=after,current+after\n",
    "    return current"
   ]
  },
  {
   "cell_type": "code",
   "execution_count": 43,
   "id": "2fc2e2a8",
   "metadata": {},
   "outputs": [
    {
     "data": {
      "text/plain": [
       "14930352"
      ]
     },
     "execution_count": 43,
     "metadata": {},
     "output_type": "execute_result"
    }
   ],
   "source": [
    "fibonnachi(36)"
   ]
  },
  {
   "cell_type": "code",
   "execution_count": 54,
   "id": "30224151",
   "metadata": {},
   "outputs": [
    {
     "data": {
      "text/plain": [
       "34"
      ]
     },
     "execution_count": 54,
     "metadata": {},
     "output_type": "execute_result"
    }
   ],
   "source": [
    "fibonnachi(9)"
   ]
  },
  {
   "cell_type": "code",
   "execution_count": 56,
   "id": "5b5701e1",
   "metadata": {},
   "outputs": [],
   "source": [
    "#every other letter"
   ]
  },
  {
   "cell_type": "code",
   "execution_count": 57,
   "id": "e7e46d3f",
   "metadata": {},
   "outputs": [],
   "source": [
    "def every(p):\n",
    "    return p[::2]"
   ]
  },
  {
   "cell_type": "code",
   "execution_count": 58,
   "id": "031fda7b",
   "metadata": {},
   "outputs": [
    {
     "data": {
      "text/plain": [
       "'fua'"
      ]
     },
     "execution_count": 58,
     "metadata": {},
     "output_type": "execute_result"
    }
   ],
   "source": [
    "every('fauzan')"
   ]
  },
  {
   "cell_type": "code",
   "execution_count": 69,
   "id": "29e5fdf9",
   "metadata": {},
   "outputs": [],
   "source": [
    "def word(p):\n",
    "    o=p.split()\n",
    "    print (o[::2])"
   ]
  },
  {
   "cell_type": "code",
   "execution_count": 70,
   "id": "1618577b",
   "metadata": {},
   "outputs": [
    {
     "name": "stdout",
     "output_type": "stream",
     "text": [
      "['faizan', 'a', 'scientist']\n"
     ]
    }
   ],
   "source": [
    "word('faizan is a data scientist')"
   ]
  },
  {
   "cell_type": "code",
   "execution_count": 71,
   "id": "bcb5b4e6",
   "metadata": {},
   "outputs": [],
   "source": [
    "#reverse word"
   ]
  },
  {
   "cell_type": "code",
   "execution_count": 72,
   "id": "71d18061",
   "metadata": {},
   "outputs": [],
   "source": [
    "def reverse(p):\n",
    "    print(p[::-1])"
   ]
  },
  {
   "cell_type": "code",
   "execution_count": 73,
   "id": "1d272ced",
   "metadata": {},
   "outputs": [
    {
     "name": "stdout",
     "output_type": "stream",
     "text": [
      "naziaf\n"
     ]
    }
   ],
   "source": [
    "reverse('faizan')"
   ]
  },
  {
   "cell_type": "code",
   "execution_count": 74,
   "id": "de047cb1",
   "metadata": {},
   "outputs": [],
   "source": [
    "#only give even is list"
   ]
  },
  {
   "cell_type": "code",
   "execution_count": 84,
   "id": "f495752b",
   "metadata": {},
   "outputs": [],
   "source": [
    "def gh(l):\n",
    "    \n",
    "    ww=[]\n",
    "    for i in l:\n",
    "        if i%2==0:\n",
    "            ww.append(i)\n",
    "    return ww"
   ]
  },
  {
   "cell_type": "code",
   "execution_count": 85,
   "id": "48eea08f",
   "metadata": {},
   "outputs": [
    {
     "data": {
      "text/plain": [
       "[2, 4, 6, 8]"
      ]
     },
     "execution_count": 85,
     "metadata": {},
     "output_type": "execute_result"
    }
   ],
   "source": [
    "gh([1,2,3,4,5,6,7,8,9])"
   ]
  },
  {
   "cell_type": "code",
   "execution_count": 102,
   "id": "079c3a57",
   "metadata": {},
   "outputs": [],
   "source": [
    "def armstrong(p):\n",
    "    temp=p\n",
    "    addf=0\n",
    "    while(temp!=0):\n",
    "        k=temp%10\n",
    "        addf=addf+k*k*k\n",
    "        temp=temp//10\n",
    "    if addf==p:\n",
    "        print(p,'is a armstrong number')\n",
    "    else:\n",
    "        print(p,'is not a armstrong number')"
   ]
  },
  {
   "cell_type": "code",
   "execution_count": 103,
   "id": "8ab8864c",
   "metadata": {},
   "outputs": [
    {
     "name": "stdout",
     "output_type": "stream",
     "text": [
      "153 is a armstrong number\n"
     ]
    }
   ],
   "source": [
    "armstrong(153)"
   ]
  },
  {
   "cell_type": "code",
   "execution_count": 104,
   "id": "8418b83c",
   "metadata": {},
   "outputs": [],
   "source": [
    "#sum of digit"
   ]
  },
  {
   "cell_type": "code",
   "execution_count": 138,
   "id": "09c89add",
   "metadata": {},
   "outputs": [],
   "source": [
    "def digit(p):\n",
    "    a=0\n",
    "    s=p\n",
    "    while(s!=0):\n",
    "        su=s%10\n",
    "        a=a+su\n",
    "        s=s//10\n",
    "    return(a)"
   ]
  },
  {
   "cell_type": "code",
   "execution_count": 139,
   "id": "b5fd86f0",
   "metadata": {},
   "outputs": [
    {
     "data": {
      "text/plain": [
       "13"
      ]
     },
     "execution_count": 139,
     "metadata": {},
     "output_type": "execute_result"
    }
   ],
   "source": [
    "digit(1534)"
   ]
  },
  {
   "cell_type": "code",
   "execution_count": 2,
   "id": "bf5793d9",
   "metadata": {},
   "outputs": [],
   "source": [
    "def hh(p):\n",
    "    if p<1:\n",
    "        return 0\n",
    "    else:\n",
    "        return p+hh(p-1)"
   ]
  },
  {
   "cell_type": "code",
   "execution_count": 3,
   "id": "b91028de",
   "metadata": {},
   "outputs": [
    {
     "data": {
      "text/plain": [
       "15"
      ]
     },
     "execution_count": 3,
     "metadata": {},
     "output_type": "execute_result"
    }
   ],
   "source": [
    "hh(5)"
   ]
  },
  {
   "cell_type": "code",
   "execution_count": 25,
   "id": "ae68991f",
   "metadata": {},
   "outputs": [],
   "source": [
    "def calculater(p):\n",
    "    p=int(input(\"enter your first number- \"))\n",
    "    s=input(\"enter your opreation symobls from=(+,-,*,/): \")\n",
    "    q=int(input(\"enter your last number-  \"))\n",
    "    if s in (\"+\",\"-\",\"*\",\"/\"):\n",
    "        if s==\"+\":\n",
    "            print (p + q)\n",
    "        elif s==\"-\":\n",
    "            return (p - q)\n",
    "        elif s==\"*\":\n",
    "            return (p * q)\n",
    "        elif s==\"/\":\n",
    "            return (p / q)\n",
    "    else:\n",
    "            print(\"please enter right symbol\")"
   ]
  },
  {
   "cell_type": "code",
   "execution_count": 27,
   "id": "94cd4bec",
   "metadata": {},
   "outputs": [
    {
     "name": "stdout",
     "output_type": "stream",
     "text": [
      "enter your first number- 89\n",
      "enter your opreation symobls from=(+,-,*,/): /\n",
      "enter your last number-  3\n"
     ]
    },
    {
     "data": {
      "text/plain": [
       "29.666666666666668"
      ]
     },
     "execution_count": 27,
     "metadata": {},
     "output_type": "execute_result"
    }
   ],
   "source": [
    "calculater(1)"
   ]
  },
  {
   "cell_type": "code",
   "execution_count": 1,
   "id": "68449908",
   "metadata": {},
   "outputs": [],
   "source": [
    "#prime numbers"
   ]
  },
  {
   "cell_type": "code",
   "execution_count": 49,
   "id": "8f3a387c",
   "metadata": {},
   "outputs": [],
   "source": [
    "def prime(p):\n",
    "    if p>=2:\n",
    "        for i in range(2,int(p/2)+1):\n",
    "            if p%i==0:\n",
    "                print(\"no it is not a prime number\")\n",
    "                break\n",
    "        else:\n",
    "                print(p,\"yes it is a prime number\")\n",
    "    else:\n",
    "        print(\"yes it is a prime number\")"
   ]
  },
  {
   "cell_type": "code",
   "execution_count": 54,
   "id": "feb3ba28",
   "metadata": {},
   "outputs": [
    {
     "name": "stdout",
     "output_type": "stream",
     "text": [
      "no it is not a prime number\n"
     ]
    }
   ],
   "source": [
    "prime(6)"
   ]
  },
  {
   "cell_type": "code",
   "execution_count": 2,
   "id": "6b68a5c3",
   "metadata": {},
   "outputs": [],
   "source": [
    "#lambda function"
   ]
  },
  {
   "cell_type": "code",
   "execution_count": 3,
   "id": "f3efc77c",
   "metadata": {},
   "outputs": [],
   "source": [
    "aa=[1,2,3,4,5]"
   ]
  },
  {
   "cell_type": "code",
   "execution_count": 5,
   "id": "d324a1dc",
   "metadata": {},
   "outputs": [],
   "source": [
    "g=lambda a:a+a+a"
   ]
  },
  {
   "cell_type": "code",
   "execution_count": 6,
   "id": "01645f02",
   "metadata": {},
   "outputs": [
    {
     "data": {
      "text/plain": [
       "6"
      ]
     },
     "execution_count": 6,
     "metadata": {},
     "output_type": "execute_result"
    }
   ],
   "source": [
    "g(2)"
   ]
  },
  {
   "cell_type": "code",
   "execution_count": 7,
   "id": "e9309926",
   "metadata": {},
   "outputs": [],
   "source": [
    "aa=[12,13,14,15,1,6,16,1,7,1,8,1,9,17,18,55,66,44]"
   ]
  },
  {
   "cell_type": "code",
   "execution_count": 11,
   "id": "1dbf74a4",
   "metadata": {},
   "outputs": [],
   "source": [
    "qq=list(filter(lambda a:a%2==0,aa))"
   ]
  },
  {
   "cell_type": "code",
   "execution_count": 12,
   "id": "5dae1997",
   "metadata": {},
   "outputs": [
    {
     "data": {
      "text/plain": [
       "[12, 14, 6, 16, 8, 18, 66, 44]"
      ]
     },
     "execution_count": 12,
     "metadata": {},
     "output_type": "execute_result"
    }
   ],
   "source": [
    "qq"
   ]
  },
  {
   "cell_type": "code",
   "execution_count": 14,
   "id": "35a7107c",
   "metadata": {},
   "outputs": [],
   "source": [
    "ww=list(map(lambda a:a+2,qq))"
   ]
  },
  {
   "cell_type": "code",
   "execution_count": 15,
   "id": "eb8149d7",
   "metadata": {},
   "outputs": [
    {
     "data": {
      "text/plain": [
       "[14, 16, 8, 18, 10, 20, 68, 46]"
      ]
     },
     "execution_count": 15,
     "metadata": {},
     "output_type": "execute_result"
    }
   ],
   "source": [
    "ww"
   ]
  },
  {
   "cell_type": "code",
   "execution_count": 16,
   "id": "941daf62",
   "metadata": {},
   "outputs": [],
   "source": [
    "from functools import reduce"
   ]
  },
  {
   "cell_type": "code",
   "execution_count": 18,
   "id": "10ff2d85",
   "metadata": {},
   "outputs": [
    {
     "data": {
      "text/plain": [
       "200"
      ]
     },
     "execution_count": 18,
     "metadata": {},
     "output_type": "execute_result"
    }
   ],
   "source": [
    "reduce(lambda a ,m:a+m,ww)"
   ]
  },
  {
   "cell_type": "code",
   "execution_count": null,
   "id": "36e4c8c8",
   "metadata": {},
   "outputs": [],
   "source": []
  }
 ],
 "metadata": {
  "kernelspec": {
   "display_name": "Python 3 (ipykernel)",
   "language": "python",
   "name": "python3"
  },
  "language_info": {
   "codemirror_mode": {
    "name": "ipython",
    "version": 3
   },
   "file_extension": ".py",
   "mimetype": "text/x-python",
   "name": "python",
   "nbconvert_exporter": "python",
   "pygments_lexer": "ipython3",
   "version": "3.9.13"
  }
 },
 "nbformat": 4,
 "nbformat_minor": 5
}
