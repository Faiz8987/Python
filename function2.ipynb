{
 "cells": [
  {
   "cell_type": "markdown",
   "id": "3a1195a6",
   "metadata": {},
   "source": [
    "#  Function"
   ]
  },
  {
   "cell_type": "code",
   "execution_count": 1,
   "id": "28be11f7",
   "metadata": {},
   "outputs": [],
   "source": [
    "def name(i):\n",
    "    print('hello very good morning',i)"
   ]
  },
  {
   "cell_type": "code",
   "execution_count": 2,
   "id": "5626b0e6",
   "metadata": {},
   "outputs": [
    {
     "name": "stdout",
     "output_type": "stream",
     "text": [
      "hello very good morning faizan\n"
     ]
    }
   ],
   "source": [
    "name('faizan')"
   ]
  },
  {
   "cell_type": "code",
   "execution_count": 17,
   "id": "89581801",
   "metadata": {},
   "outputs": [],
   "source": [
    "def age():\n",
    "    print(input (\"please enter your age::\"))\n",
    "def elegiblity(age):\n",
    "    if  age in range(1,18):\n",
    "        print('you are not ')\n",
    "        \n",
    "    else:\n",
    "        print('yes you are')"
   ]
  },
  {
   "cell_type": "code",
   "execution_count": 18,
   "id": "bdae6738",
   "metadata": {},
   "outputs": [
    {
     "name": "stdout",
     "output_type": "stream",
     "text": [
      "please enter your age::18\n",
      "18\n"
     ]
    }
   ],
   "source": [
    "age()"
   ]
  },
  {
   "cell_type": "code",
   "execution_count": 19,
   "id": "c0ff1d37",
   "metadata": {},
   "outputs": [
    {
     "name": "stdout",
     "output_type": "stream",
     "text": [
      "yes you are\n"
     ]
    }
   ],
   "source": [
    "elegiblity(18)"
   ]
  },
  {
   "cell_type": "code",
   "execution_count": 20,
   "id": "cf232de4",
   "metadata": {},
   "outputs": [],
   "source": [
    "def greet():\n",
    "    \n",
    "    for i in range (1,11):\n",
    "        print('hello')"
   ]
  },
  {
   "cell_type": "code",
   "execution_count": 21,
   "id": "653195ea",
   "metadata": {},
   "outputs": [
    {
     "name": "stdout",
     "output_type": "stream",
     "text": [
      "hello\n",
      "hello\n",
      "hello\n",
      "hello\n",
      "hello\n",
      "hello\n",
      "hello\n",
      "hello\n",
      "hello\n",
      "hello\n"
     ]
    }
   ],
   "source": [
    "greet()"
   ]
  },
  {
   "cell_type": "code",
   "execution_count": 24,
   "id": "18173a88",
   "metadata": {},
   "outputs": [],
   "source": [
    "def teneven():\n",
    "    for i in range (1,11):\n",
    "        print(i*2)"
   ]
  },
  {
   "cell_type": "code",
   "execution_count": 25,
   "id": "557e0149",
   "metadata": {},
   "outputs": [
    {
     "name": "stdout",
     "output_type": "stream",
     "text": [
      "2\n",
      "4\n",
      "6\n",
      "8\n",
      "10\n",
      "12\n",
      "14\n",
      "16\n",
      "18\n",
      "20\n"
     ]
    }
   ],
   "source": [
    "teneven()"
   ]
  },
  {
   "cell_type": "code",
   "execution_count": 36,
   "id": "9f90d85f",
   "metadata": {},
   "outputs": [],
   "source": [
    "def tenodd():\n",
    "    i=1\n",
    "    for i in range (1,23,2):\n",
    "        print(i)"
   ]
  },
  {
   "cell_type": "code",
   "execution_count": 37,
   "id": "2d0315ae",
   "metadata": {},
   "outputs": [
    {
     "name": "stdout",
     "output_type": "stream",
     "text": [
      "1\n",
      "3\n",
      "5\n",
      "7\n",
      "9\n",
      "11\n",
      "13\n",
      "15\n",
      "17\n",
      "19\n",
      "21\n"
     ]
    }
   ],
   "source": [
    "tenodd()"
   ]
  },
  {
   "cell_type": "code",
   "execution_count": 38,
   "id": "c5dbd0e3",
   "metadata": {},
   "outputs": [],
   "source": [
    "#sum of n numbers"
   ]
  },
  {
   "cell_type": "code",
   "execution_count": 71,
   "id": "d7db22ca",
   "metadata": {},
   "outputs": [],
   "source": [
    "def sumo(p):\n",
    "    return (p*(p+1)/2)"
   ]
  },
  {
   "cell_type": "code",
   "execution_count": 72,
   "id": "980fb5de",
   "metadata": {},
   "outputs": [
    {
     "data": {
      "text/plain": [
       "55.0"
      ]
     },
     "execution_count": 72,
     "metadata": {},
     "output_type": "execute_result"
    }
   ],
   "source": [
    "sumo(10)"
   ]
  },
  {
   "cell_type": "code",
   "execution_count": 75,
   "id": "521bf84f",
   "metadata": {},
   "outputs": [],
   "source": [
    "def sam(u):\n",
    "    if u==0:\n",
    "        return 0\n",
    "    else:\n",
    "        return u+sam(u-1)"
   ]
  },
  {
   "cell_type": "code",
   "execution_count": 76,
   "id": "b2ce48e6",
   "metadata": {},
   "outputs": [
    {
     "data": {
      "text/plain": [
       "55"
      ]
     },
     "execution_count": 76,
     "metadata": {},
     "output_type": "execute_result"
    }
   ],
   "source": [
    "sam(10)"
   ]
  },
  {
   "cell_type": "code",
   "execution_count": 1,
   "id": "ef425b5d",
   "metadata": {},
   "outputs": [],
   "source": [
    "#doller "
   ]
  },
  {
   "cell_type": "code",
   "execution_count": 2,
   "id": "4739f644",
   "metadata": {},
   "outputs": [],
   "source": [
    "def doller(o):\n",
    "    return (o*82.74)"
   ]
  },
  {
   "cell_type": "code",
   "execution_count": 4,
   "id": "763fd58e",
   "metadata": {},
   "outputs": [
    {
     "data": {
      "text/plain": [
       "827.4"
      ]
     },
     "execution_count": 4,
     "metadata": {},
     "output_type": "execute_result"
    }
   ],
   "source": [
    "doller(10)"
   ]
  },
  {
   "cell_type": "code",
   "execution_count": 6,
   "id": "6463a37d",
   "metadata": {},
   "outputs": [],
   "source": [
    "#calcius"
   ]
  },
  {
   "cell_type": "code",
   "execution_count": 7,
   "id": "87232549",
   "metadata": {},
   "outputs": [],
   "source": [
    "def fernhite(m):\n",
    "    return (m*9/5+32)"
   ]
  },
  {
   "cell_type": "code",
   "execution_count": 8,
   "id": "80af8b70",
   "metadata": {},
   "outputs": [
    {
     "data": {
      "text/plain": [
       "86.0"
      ]
     },
     "execution_count": 8,
     "metadata": {},
     "output_type": "execute_result"
    }
   ],
   "source": [
    "fernhite(30)"
   ]
  },
  {
   "cell_type": "code",
   "execution_count": 9,
   "id": "5fb79d5b",
   "metadata": {},
   "outputs": [],
   "source": [
    "#pailndrom"
   ]
  },
  {
   "cell_type": "code",
   "execution_count": 11,
   "id": "ca9e71da",
   "metadata": {},
   "outputs": [],
   "source": [
    "def pailindrom(p):\n",
    "    p=p.lower()\n",
    "    if p==p[::-1]:\n",
    "        print('yes it is palindrom ')\n",
    "    else:\n",
    "        print('no its not')"
   ]
  },
  {
   "cell_type": "code",
   "execution_count": 13,
   "id": "f0d287b3",
   "metadata": {},
   "outputs": [
    {
     "name": "stdout",
     "output_type": "stream",
     "text": [
      "yes it is palindrom \n"
     ]
    }
   ],
   "source": [
    "pailindrom('mam')"
   ]
  },
  {
   "cell_type": "code",
   "execution_count": 18,
   "id": "111ab7d2",
   "metadata": {},
   "outputs": [],
   "source": [
    "def pl():\n",
    "    q=input('enter your word please:')\n",
    "    q=q.lower()\n",
    "    if q ==q[::-1]:\n",
    "        print(\"yes its a palindrom\")\n",
    "    else:\n",
    "        print(\"its not a palindrom\")"
   ]
  },
  {
   "cell_type": "code",
   "execution_count": 19,
   "id": "5b6cd0df",
   "metadata": {},
   "outputs": [
    {
     "name": "stdout",
     "output_type": "stream",
     "text": [
      "enter your word please:mam\n",
      "yes its a palindrom\n"
     ]
    }
   ],
   "source": [
    "pl()"
   ]
  },
  {
   "cell_type": "code",
   "execution_count": 27,
   "id": "43ea76d3",
   "metadata": {},
   "outputs": [],
   "source": [
    "def spl(l):\n",
    "    even=0\n",
    "    odd=0\n",
    "    for i in l:\n",
    "        if i%2==0:\n",
    "            even=even+i\n",
    "        else:\n",
    "            odd=odd+i\n",
    "    print(even,odd)"
   ]
  },
  {
   "cell_type": "code",
   "execution_count": 28,
   "id": "4924fc3d",
   "metadata": {},
   "outputs": [
    {
     "name": "stdout",
     "output_type": "stream",
     "text": [
      "106 170\n"
     ]
    }
   ],
   "source": [
    "spl([1,2,3,4,5,6,9,79,73,4,8,52,26,4])"
   ]
  },
  {
   "cell_type": "code",
   "execution_count": 32,
   "id": "ec72451d",
   "metadata": {},
   "outputs": [],
   "source": [
    "def jk(p):\n",
    "    vo='aeiouAEIOU'\n",
    "    df=(p)\n",
    "    for i in p:\n",
    "        if i in vo:\n",
    "            df=df+\":\"+i\n",
    "    print(df)"
   ]
  },
  {
   "cell_type": "code",
   "execution_count": 33,
   "id": "a7dd700a",
   "metadata": {},
   "outputs": [
    {
     "name": "stdout",
     "output_type": "stream",
     "text": [
      "faizan:a:i:a\n"
     ]
    }
   ],
   "source": [
    "jk('faizan')"
   ]
  },
  {
   "cell_type": "code",
   "execution_count": 34,
   "id": "55b06bd6",
   "metadata": {},
   "outputs": [],
   "source": [
    "def rr(o):\n",
    "    vowel='aeiouAEIOU'\n",
    "    cc=0\n",
    "    for i in o:\n",
    "        if i in vowel:\n",
    "            cc=cc+1\n",
    "    print(cc)"
   ]
  },
  {
   "cell_type": "code",
   "execution_count": 35,
   "id": "7b0478ae",
   "metadata": {},
   "outputs": [
    {
     "name": "stdout",
     "output_type": "stream",
     "text": [
      "3\n"
     ]
    }
   ],
   "source": [
    "rr('faizna')"
   ]
  },
  {
   "cell_type": "code",
   "execution_count": 38,
   "id": "2aefe432",
   "metadata": {},
   "outputs": [],
   "source": [
    "i=1"
   ]
  },
  {
   "cell_type": "code",
   "execution_count": 39,
   "id": "22190c66",
   "metadata": {},
   "outputs": [
    {
     "name": "stdout",
     "output_type": "stream",
     "text": [
      "1\n",
      "3\n",
      "5\n",
      "7\n",
      "9\n",
      "11\n",
      "13\n",
      "15\n",
      "17\n",
      "19\n",
      "21\n"
     ]
    }
   ],
   "source": [
    "while(i<23):\n",
    "    print(i)\n",
    "    i=i+2"
   ]
  },
  {
   "cell_type": "code",
   "execution_count": 40,
   "id": "2e82f7ad",
   "metadata": {},
   "outputs": [
    {
     "name": "stdout",
     "output_type": "stream",
     "text": [
      "1\n",
      "3\n",
      "5\n",
      "7\n",
      "9\n",
      "11\n",
      "13\n",
      "15\n",
      "17\n",
      "19\n",
      "21\n"
     ]
    }
   ],
   "source": [
    "for p in range (1,23,2):\n",
    "    print(p)"
   ]
  },
  {
   "cell_type": "code",
   "execution_count": 24,
   "id": "eb9e7119",
   "metadata": {},
   "outputs": [],
   "source": [
    "class Mobile:\n",
    "    def __init__(self,name,brand,color,price,ram):\n",
    "        self.name=name\n",
    "        self.brand=brand\n",
    "        self.color=color\n",
    "        self.price=price\n",
    "        self.ram=ram\n",
    "    def show_details(self):\n",
    "        print(\"the name of mobile is :\",self.name)\n",
    "        print(\"the brand of mobile is :\",self.brand)\n",
    "        print(\"the color of mobile is :\",self.color)\n",
    "        print('the price of mobile is:',self.price)\n",
    "        print(\"the ram of mobile is :\",self.ram)"
   ]
  },
  {
   "cell_type": "code",
   "execution_count": 25,
   "id": "69fb9b7d",
   "metadata": {},
   "outputs": [],
   "source": [
    "ss=Mobile('redmi','mi','blue',20000,'8gb')"
   ]
  },
  {
   "cell_type": "code",
   "execution_count": 26,
   "id": "4438a711",
   "metadata": {},
   "outputs": [
    {
     "name": "stdout",
     "output_type": "stream",
     "text": [
      "the name of mobile is : redmi\n",
      "the brand of mobile is : mi\n",
      "the color of mobile is : blue\n",
      "the price of mobile is: 20000\n",
      "the ram of mobile is : 8gb\n"
     ]
    }
   ],
   "source": [
    "ss.show_details()"
   ]
  },
  {
   "cell_type": "code",
   "execution_count": 27,
   "id": "9c304c3c",
   "metadata": {},
   "outputs": [],
   "source": [
    "class Mob(Mobile):\n",
    "    def show_2(self):\n",
    "        print('the mobile rank has 1st most')"
   ]
  },
  {
   "cell_type": "code",
   "execution_count": 28,
   "id": "02169a94",
   "metadata": {},
   "outputs": [],
   "source": [
    "qq=Mob('iphone14','apple','purple',140000,'8gb')"
   ]
  },
  {
   "cell_type": "code",
   "execution_count": 29,
   "id": "6cfe8fa3",
   "metadata": {},
   "outputs": [
    {
     "name": "stdout",
     "output_type": "stream",
     "text": [
      "the name of mobile is : iphone14\n",
      "the brand of mobile is : apple\n",
      "the color of mobile is : purple\n",
      "the price of mobile is: 140000\n",
      "the ram of mobile is : 8gb\n"
     ]
    }
   ],
   "source": [
    "qq.show_details()"
   ]
  },
  {
   "cell_type": "code",
   "execution_count": 30,
   "id": "8699456d",
   "metadata": {},
   "outputs": [
    {
     "name": "stdout",
     "output_type": "stream",
     "text": [
      "the mobile rank has 1st most\n"
     ]
    }
   ],
   "source": [
    "qq.show_2()"
   ]
  },
  {
   "cell_type": "code",
   "execution_count": 40,
   "id": "df7253a4",
   "metadata": {},
   "outputs": [],
   "source": [
    "class HH(Mobile):\n",
    "    def __init__(self,name,brand,color,price,ram,rom,camera,battery):\n",
    "        super().__init__(name,brand,color,price,ram)\n",
    "        self.rom=rom\n",
    "        self.camera=camera\n",
    "        self.battery=battery\n",
    "    def shn(self):\n",
    "        print (self.rom)\n",
    "        print (self.camera)\n",
    "        print (self.battery)"
   ]
  },
  {
   "cell_type": "code",
   "execution_count": 41,
   "id": "062c7f93",
   "metadata": {},
   "outputs": [],
   "source": [
    "xx=HH('samsumg','z flip','silver',150000,'16gb','128gb','50mp','100%')"
   ]
  },
  {
   "cell_type": "code",
   "execution_count": 42,
   "id": "56b1d2a8",
   "metadata": {},
   "outputs": [
    {
     "name": "stdout",
     "output_type": "stream",
     "text": [
      "the name of mobile is : samsumg\n",
      "the brand of mobile is : z flip\n",
      "the color of mobile is : silver\n",
      "the price of mobile is: 150000\n",
      "the ram of mobile is : 16gb\n"
     ]
    }
   ],
   "source": [
    "xx.show_details()"
   ]
  },
  {
   "cell_type": "code",
   "execution_count": 43,
   "id": "6e4eaf85",
   "metadata": {},
   "outputs": [
    {
     "name": "stdout",
     "output_type": "stream",
     "text": [
      "128gb\n",
      "50mp\n",
      "100%\n"
     ]
    }
   ],
   "source": [
    "xx.shn()"
   ]
  },
  {
   "cell_type": "code",
   "execution_count": 45,
   "id": "97041973",
   "metadata": {},
   "outputs": [],
   "source": [
    "class Papa:\n",
    "    def set_name1(self,name1):\n",
    "        self.name1=name1\n",
    "    def show_name1(self):\n",
    "        return self.name1"
   ]
  },
  {
   "cell_type": "code",
   "execution_count": 46,
   "id": "8a3ad7fc",
   "metadata": {},
   "outputs": [],
   "source": [
    "class Ammi:\n",
    "    def set_name2(self,name2):\n",
    "        self.name2=name2\n",
    "    def show_name2(self):\n",
    "        return self.name2"
   ]
  },
  {
   "cell_type": "code",
   "execution_count": 47,
   "id": "813558b2",
   "metadata": {},
   "outputs": [],
   "source": [
    "class Me (Papa,Ammi):\n",
    "    def set_name3(self,name3):\n",
    "        self.name3=name3\n",
    "    def show_name3(self):\n",
    "        return self.name3"
   ]
  },
  {
   "cell_type": "code",
   "execution_count": 48,
   "id": "55d4dae9",
   "metadata": {},
   "outputs": [],
   "source": [
    "ss=Me()"
   ]
  },
  {
   "cell_type": "code",
   "execution_count": 49,
   "id": "7ff06e6e",
   "metadata": {},
   "outputs": [],
   "source": [
    "ss.set_name1(\"shafique ali\")"
   ]
  },
  {
   "cell_type": "code",
   "execution_count": 50,
   "id": "ef9bd4c7",
   "metadata": {},
   "outputs": [],
   "source": [
    "ss.set_name2('azeeza bano')"
   ]
  },
  {
   "cell_type": "code",
   "execution_count": 51,
   "id": "cd59eef6",
   "metadata": {},
   "outputs": [],
   "source": [
    "ss.set_name3(\"faizan ali\")"
   ]
  },
  {
   "cell_type": "code",
   "execution_count": 52,
   "id": "306cb064",
   "metadata": {},
   "outputs": [
    {
     "data": {
      "text/plain": [
       "'shafique ali'"
      ]
     },
     "execution_count": 52,
     "metadata": {},
     "output_type": "execute_result"
    }
   ],
   "source": [
    "ss.show_name1()"
   ]
  },
  {
   "cell_type": "code",
   "execution_count": 53,
   "id": "090a7e3b",
   "metadata": {},
   "outputs": [
    {
     "data": {
      "text/plain": [
       "'azeeza bano'"
      ]
     },
     "execution_count": 53,
     "metadata": {},
     "output_type": "execute_result"
    }
   ],
   "source": [
    "ss.show_name2()"
   ]
  },
  {
   "cell_type": "code",
   "execution_count": 54,
   "id": "9d7de0bf",
   "metadata": {},
   "outputs": [
    {
     "data": {
      "text/plain": [
       "'faizan ali'"
      ]
     },
     "execution_count": 54,
     "metadata": {},
     "output_type": "execute_result"
    }
   ],
   "source": [
    "ss.show_name3()"
   ]
  },
  {
   "cell_type": "code",
   "execution_count": 56,
   "id": "b669b857",
   "metadata": {},
   "outputs": [],
   "source": [
    "class Dada:\n",
    "    def set_name(self,name):\n",
    "        self.name=name\n",
    "    def show_name(self):\n",
    "        return self.name"
   ]
  },
  {
   "cell_type": "code",
   "execution_count": 57,
   "id": "4a94644a",
   "metadata": {},
   "outputs": [],
   "source": [
    "class Abbu(Dada):\n",
    "    def set_age(self,age):\n",
    "        self.age=age\n",
    "    def show_age(self):\n",
    "        return self.age"
   ]
  },
  {
   "cell_type": "code",
   "execution_count": 58,
   "id": "67ed89a1",
   "metadata": {},
   "outputs": [],
   "source": [
    "class Faiz(Abbu):\n",
    "    def set_gender(self,gender):\n",
    "        self.gender=gender\n",
    "    def show_gender(self):\n",
    "        return self.gender"
   ]
  },
  {
   "cell_type": "code",
   "execution_count": 59,
   "id": "62638e76",
   "metadata": {},
   "outputs": [],
   "source": [
    "ww=Faiz()"
   ]
  },
  {
   "cell_type": "code",
   "execution_count": 60,
   "id": "101f5f15",
   "metadata": {},
   "outputs": [],
   "source": [
    "ww.set_age(80)"
   ]
  },
  {
   "cell_type": "code",
   "execution_count": 61,
   "id": "2f4b50cd",
   "metadata": {},
   "outputs": [],
   "source": [
    "ww.set_gender('male')"
   ]
  },
  {
   "cell_type": "code",
   "execution_count": 62,
   "id": "75a21e06",
   "metadata": {},
   "outputs": [],
   "source": [
    "ww.set_name('hamid ali')"
   ]
  },
  {
   "cell_type": "code",
   "execution_count": 63,
   "id": "f2a49364",
   "metadata": {},
   "outputs": [
    {
     "data": {
      "text/plain": [
       "80"
      ]
     },
     "execution_count": 63,
     "metadata": {},
     "output_type": "execute_result"
    }
   ],
   "source": [
    "ww.show_age()"
   ]
  },
  {
   "cell_type": "code",
   "execution_count": 64,
   "id": "9abe62b4",
   "metadata": {},
   "outputs": [
    {
     "data": {
      "text/plain": [
       "'male'"
      ]
     },
     "execution_count": 64,
     "metadata": {},
     "output_type": "execute_result"
    }
   ],
   "source": [
    "ww.show_gender()"
   ]
  },
  {
   "cell_type": "code",
   "execution_count": 65,
   "id": "e7a2d7c0",
   "metadata": {},
   "outputs": [
    {
     "data": {
      "text/plain": [
       "'hamid ali'"
      ]
     },
     "execution_count": 65,
     "metadata": {},
     "output_type": "execute_result"
    }
   ],
   "source": [
    "ww.show_name()"
   ]
  },
  {
   "cell_type": "code",
   "execution_count": null,
   "id": "18cc9322",
   "metadata": {},
   "outputs": [],
   "source": []
  }
 ],
 "metadata": {
  "kernelspec": {
   "display_name": "Python 3 (ipykernel)",
   "language": "python",
   "name": "python3"
  },
  "language_info": {
   "codemirror_mode": {
    "name": "ipython",
    "version": 3
   },
   "file_extension": ".py",
   "mimetype": "text/x-python",
   "name": "python",
   "nbconvert_exporter": "python",
   "pygments_lexer": "ipython3",
   "version": "3.9.13"
  }
 },
 "nbformat": 4,
 "nbformat_minor": 5
}
